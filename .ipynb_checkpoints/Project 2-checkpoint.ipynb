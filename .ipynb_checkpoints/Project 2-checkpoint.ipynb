{
 "cells": [
  {
   "cell_type": "code",
   "execution_count": 1,
   "id": "c9a985b2",
   "metadata": {},
   "outputs": [],
   "source": [
    "import jax.numpy as jnp\n",
    "import project_2 as p2\n",
    "import seaborn as sns\n",
    "from tqdm import tqdm\n",
    "import imp\n",
    "imp.reload(p2)\n",
    "sns.set(context='paper',style='ticks')"
   ]
  },
  {
   "cell_type": "markdown",
   "id": "131836b0",
   "metadata": {},
   "source": [
    "# Problem setup:\n",
    "\n",
    "## States:\n",
    "\n",
    "$$\n",
    "x(t) = \\left[ \n",
    "        \\Re\\{\\bar{V}_1(t)\\},\n",
    "        \\Im\\{\\bar{V}_1(t)\\},\n",
    "        c_g(t),\n",
    "        s_g(t),\n",
    "        \\delta_g(t),\n",
    "        \\omega_g(t),\n",
    "        \\Re\\{\\bar{V}_2(t)\\},\n",
    "        \\Im\\{\\bar{V}_2(t)\\},\n",
    "        c_m(t),\n",
    "        s_m(t),\n",
    "        \\delta_m(t),\n",
    "        \\omega_m(t)\n",
    "    \\right]^T\n",
    "$$\n",
    "\n",
    "## System Parameters and Initial Conditions:"
   ]
  },
  {
   "cell_type": "code",
   "execution_count": 2,
   "id": "39777e54",
   "metadata": {},
   "outputs": [
    {
     "name": "stderr",
     "output_type": "stream",
     "text": [
      "WARNING:absl:No GPU/TPU found, falling back to CPU. (Set TF_CPP_MIN_LOG_LEVEL=0 and rerun for more info.)\n"
     ]
    }
   ],
   "source": [
    "#Initial conditions\n",
    "Ig = 0.75 * jnp.exp(jnp.deg2rad(180)*1j)\n",
    "Eg = 1.0315 * jnp.exp(jnp.deg2rad(14.2)*1j)\n",
    "Im = 0.75 #* np.exp(0*1j)\n",
    "Em = 1/(p2.bm*-1j)*(-1*Im) +1\n",
    "Pgm = 0.75\n",
    "Pmm = 0.75\n",
    "V1 = 1/(p2.b*-1j)*Im + 1\n",
    "V2 = 1.0*jnp.exp(0*1j)\n",
    "\n",
    "#Parameters that were not stated anywhere in the project.\n",
    "omega0 = 2*jnp.pi*60\n"
   ]
  },
  {
   "cell_type": "code",
   "execution_count": null,
   "id": "3424ae45",
   "metadata": {},
   "outputs": [],
   "source": []
  },
  {
   "cell_type": "code",
   "execution_count": null,
   "id": "24beb7a1",
   "metadata": {},
   "outputs": [],
   "source": []
  },
  {
   "cell_type": "markdown",
   "id": "d5d84e40",
   "metadata": {},
   "source": [
    "## Measurements "
   ]
  },
  {
   "cell_type": "code",
   "execution_count": 3,
   "id": "45c040b1",
   "metadata": {},
   "outputs": [],
   "source": [
    "measurements  = jnp.array([[1.000, 0.100, 1.000, 0.000, 0.750, 0.000, -0.750, 0.000,-0.750, 0.000, 0.750, 0.000, 0.000, 0.000],\n",
    "                          [1.000, 0.100, 1.000, 0.000, 0.750, 0.000, -0.750, 0.000, -0.750, 0.000, 0.750, 0.000, 0.000, 0.000,],\n",
    "                          [0.993, 0.030, 0.987, -0.114, 1.079, -0.041, -1.079, 0.041, -1.079, 0.041, 0.141, 0.068, -0.392, -1.092],\n",
    "                          [0.991, 0.013, 0.983, -0.135, 1.111, -0.060, -1.111, 0.060, -1.111, 0.060, 0.177, 0.068, -0.811, -2.146],\n",
    "                          [0.988, -0.014, 0.975, -0.169, 1.160, -0.095, -1.160, 0.095,-1.160, 0.095, 0.233, 0.065, -1.278, -3.125],\n",
    "                          [0.982, -0.052, 0.963, -0.215, 1.219, -0.148, -1.219, 0.148,-1.219, 0.148, 0.305, 0.056, -1.813, -4.001],\n",
    "                          [0.974, -0.101, 0.944, -0.271, 1.281, -0.222, -1.281, 0.222, -1.281, 0.222, 0.384, 0.036, -2.425, -4.757],\n",
    "                          [0.960, -0.159, 0.918, -0.337, 1.335, -0.318, -1.335, 0.318, -1.335, 0.318, 0.464, 0.002, -3.118, -5.387],\n",
    "                          [0.941, -0.226, 0.883, -0.409, 1.372, -0.436, -1.372, 0.436, -1.372, 0.436, 0.534, -0.047, -3.888, -5.896],\n",
    "                          [0.915, -0.302, 0.838, -0.487, 1.382, -0.572, -1.382, 0.572, -1.382, 0.572, 0.586, -0.110, -4.723, -6.300],\n",
    "                          [0.916, -0.334, 0.844, -0.482, 1.106, -0.538, -1.106, 0.538, -1.106, 0.538, 1.106, -0.538, -5.609, -6.622],\n",
    "                          [0.877, -0.424, 0.790, -0.565, 1.055, -0.652, -1.055, 0.652, -1.055, 0.652, 1.055, -0.652, -6.175, -5.836],\n",
    "                          [0.832, -0.512, 0.734, -0.640, 0.959, -0.735, -0.959, 0.735, -0.959, 0.735, 0.959, -0.735, -6.730, -5.067],\n",
    "                          [0.780, -0.597, 0.676, -0.707, 0.828, -0.778, -0.828, 0.778, -0.828, 0.778, 0.828, -0.778, -7.226, -4.377]\n",
    "                         ])"
   ]
  },
  {
   "cell_type": "code",
   "execution_count": 26,
   "id": "7e6374a9",
   "metadata": {},
   "outputs": [],
   "source": [
    "P = 1e6*jnp.eye(8)\n",
    "W = (1/(0.01**2))*jnp.eye(measurements.shape[1])"
   ]
  },
  {
   "cell_type": "markdown",
   "id": "5e8c89ea",
   "metadata": {},
   "source": [
    "## Dynamic State Estimation"
   ]
  },
  {
   "cell_type": "code",
   "execution_count": 27,
   "id": "0661ecef",
   "metadata": {},
   "outputs": [
    {
     "name": "stdout",
     "output_type": "stream",
     "text": [
      "[ 1.          0.1         0.96944535  0.2453074   0.24783677  0.\n",
      "  1.          0.          0.99174285 -0.12824261 -0.12859675  0.        ]\n"
     ]
    }
   ],
   "source": [
    "x_k = jnp.array([jnp.real(V1),jnp.imag(V1),jnp.cos(jnp.angle(Eg)),jnp.sin(jnp.angle(Eg)),jnp.angle(Eg),0,jnp.real(V2),jnp.imag(V2),jnp.cos(jnp.angle(Em)),jnp.sin(jnp.angle(Em)),jnp.angle(Em),0])\n",
    "print(x_k)"
   ]
  },
  {
   "cell_type": "code",
   "execution_count": null,
   "id": "3800c545",
   "metadata": {},
   "outputs": [],
   "source": []
  },
  {
   "cell_type": "code",
   "execution_count": 28,
   "id": "5ba1f08c",
   "metadata": {},
   "outputs": [],
   "source": [
    "X = []\n",
    "tol = 1e-6\n",
    "k = 0\n",
    "x_t_h = x_k"
   ]
  },
  {
   "cell_type": "code",
   "execution_count": 29,
   "id": "c1c5d452",
   "metadata": {},
   "outputs": [
    {
     "name": "stdout",
     "output_type": "stream",
     "text": [
      "[-2.0358711e-06  0.0000000e+00  0.0000000e+00  0.0000000e+00\n",
      " -9.3132257e-10  0.0000000e+00  0.0000000e+00  0.0000000e+00]\n"
     ]
    }
   ],
   "source": [
    "print(p2.g_cons(x_k,x_t_h))"
   ]
  },
  {
   "cell_type": "code",
   "execution_count": 30,
   "id": "0b5782e1",
   "metadata": {},
   "outputs": [
    {
     "data": {
      "text/plain": [
       "DeviceArray(1.0083259, dtype=float32, weak_type=True)"
      ]
     },
     "execution_count": 30,
     "metadata": {},
     "output_type": "execute_result"
    }
   ],
   "source": [
    "jnp.abs(p2.Em)"
   ]
  },
  {
   "cell_type": "code",
   "execution_count": 31,
   "id": "9c8590f0",
   "metadata": {},
   "outputs": [
    {
     "name": "stdout",
     "output_type": "stream",
     "text": [
      "[-2.0358711e-06  0.0000000e+00  0.0000000e+00  0.0000000e+00\n",
      " -9.3132257e-10  0.0000000e+00  0.0000000e+00  0.0000000e+00]\n"
     ]
    }
   ],
   "source": [
    "g = p2.g_cons(x_k,x_t_h)\n",
    "print(g)"
   ]
  },
  {
   "cell_type": "code",
   "execution_count": 32,
   "id": "c7bfe606",
   "metadata": {},
   "outputs": [
    {
     "data": {
      "text/plain": [
       "DeviceArray([ 1.        ,  0.1       ,  0.96944535,  0.2453074 ,\n",
       "              0.24783677,  0.        ,  1.        ,  0.        ,\n",
       "              0.99174285, -0.12824261, -0.12859675,  0.        ],            dtype=float32)"
      ]
     },
     "execution_count": 32,
     "metadata": {},
     "output_type": "execute_result"
    }
   ],
   "source": [
    "x_k"
   ]
  },
  {
   "cell_type": "code",
   "execution_count": null,
   "id": "30f28546",
   "metadata": {},
   "outputs": [],
   "source": []
  },
  {
   "cell_type": "code",
   "execution_count": 33,
   "id": "5d892abd",
   "metadata": {},
   "outputs": [],
   "source": [
    "def d_vec(x_k,x_t_h,z):\n",
    "    h_x = p2.h(x_k)-z\n",
    "    g_x_k = p2.g_cons(x_k,x_t_h)\n",
    "    d = jnp.concatenate([h_x,g_x_k])\n",
    "    return d\n",
    "\n",
    "def d_vec_spoofed(x_k,x_t_h,z):\n",
    "    h_x = p2.h(x_k)-z\n",
    "    g_x_k = p2.g_cons(x_k,x_t_h)\n",
    "    d = jnp.concatenate([h_x,g_x_k])\n",
    "    return d\n",
    "\n",
    "def update_rule(x_k,H,G,W,P,d):\n",
    "    left = jnp.linalg.inv(jnp.vstack([H,G]).T @ jnp.block([[W,jnp.zeros((14,8))],[jnp.zeros((8,14)),P]])@jnp.vstack([H,G]))\n",
    "    right = (jnp.vstack([H,G]).T@jnp.block([[W,jnp.zeros((14,8))],[jnp.zeros((8,14)),P]]))@d\n",
    "    x_k_1 = x_k - left @ right\n",
    "    #x_k_1 = x_k - jnp.linalg.inv(H.T@W@H + G.T@P@G)@(jnp.hstack([H.T@W,G.T@P]))@d\n",
    "    return x_k_1\n"
   ]
  },
  {
   "cell_type": "code",
   "execution_count": null,
   "id": "b46c74fc",
   "metadata": {},
   "outputs": [],
   "source": []
  },
  {
   "cell_type": "code",
   "execution_count": 34,
   "id": "19bc47e2",
   "metadata": {},
   "outputs": [],
   "source": [
    "def std(H,G,W,P):\n",
    "    info_matrix = jnp.linalg.inv(jnp.vstack([H,G]).T @ jnp.block([[W,jnp.zeros((14,8))],[jnp.zeros((8,14)),P]])@jnp.vstack([H,G]))\n",
    "    stds = []\n",
    "    for i,s_i in enumerate(info_matrix):\n",
    "        stds.append(jnp.sqrt(s_i[i]))\n",
    "    return stds"
   ]
  },
  {
   "cell_type": "code",
   "execution_count": 35,
   "id": "2d7daa07",
   "metadata": {},
   "outputs": [
    {
     "name": "stdout",
     "output_type": "stream",
     "text": [
      "==============================t=  0\n"
     ]
    },
    {
     "name": "stderr",
     "output_type": "stream",
     "text": [
      "100%|███████████████████████████████████████████████████████████████████████████████████| 10/10 [00:01<00:00,  5.10it/s]\n"
     ]
    },
    {
     "name": "stdout",
     "output_type": "stream",
     "text": [
      "[ 9.9999207e-01  9.9987574e-02  9.6944714e-01  2.4531028e-01\n",
      "  2.4783680e-01  3.8470339e-06  9.9999356e-01 -1.0083646e-05\n",
      "  9.9174124e-01 -1.2824519e-01 -1.2859677e-01 -2.6457310e-06]\n",
      "==============================t=  1\n"
     ]
    },
    {
     "name": "stderr",
     "output_type": "stream",
     "text": [
      "100%|███████████████████████████████████████████████████████████████████████████████████| 10/10 [00:02<00:00,  4.90it/s]\n"
     ]
    },
    {
     "name": "stdout",
     "output_type": "stream",
     "text": [
      "[ 9.9999213e-01  9.9987730e-02  9.6944857e-01  2.4531260e-01\n",
      "  2.4783686e-01  2.7119504e-06  9.9999332e-01 -1.0417125e-05\n",
      "  9.9173993e-01 -1.2824722e-01 -1.2859681e-01 -2.4725243e-06]\n",
      "==============================t=  2\n"
     ]
    },
    {
     "name": "stderr",
     "output_type": "stream",
     "text": [
      "100%|███████████████████████████████████████████████████████████████████████████████████| 10/10 [00:01<00:00,  5.02it/s]\n"
     ]
    },
    {
     "name": "stdout",
     "output_type": "stream",
     "text": [
      "[ 0.992488    0.02915277  0.9702432   0.24216595  0.24459752 -0.3887222\n",
      "  0.9870049  -0.11472488  0.99052775 -0.13720585 -0.13765539 -1.0870275 ]\n",
      "==============================t=  3\n"
     ]
    },
    {
     "name": "stderr",
     "output_type": "stream",
     "text": [
      "100%|███████████████████████████████████████████████████████████████████████████████████| 10/10 [00:02<00:00,  4.99it/s]\n"
     ]
    },
    {
     "name": "stdout",
     "output_type": "stream",
     "text": [
      "[ 0.9909623   0.01324219  0.9726021   0.23249294  0.2346002  -0.8109563\n",
      "  0.98295516 -0.13485447  0.98644185 -0.16387439 -0.16459724 -2.1459942 ]\n",
      "==============================t=  4\n"
     ]
    },
    {
     "name": "stderr",
     "output_type": "stream",
     "text": [
      "100%|███████████████████████████████████████████████████████████████████████████████████| 10/10 [00:01<00:00,  5.01it/s]\n"
     ]
    },
    {
     "name": "stdout",
     "output_type": "stream",
     "text": [
      "[ 0.9878512  -0.01414988  0.9764885   0.21557842  0.21719241 -1.2779791\n",
      "  0.9751815  -0.16877246  0.9782392  -0.20706499 -0.20852245 -3.1250308 ]\n",
      "==============================t=  5\n"
     ]
    },
    {
     "name": "stderr",
     "output_type": "stream",
     "text": [
      "100%|███████████████████████████████████████████████████████████████████████████████████| 10/10 [00:01<00:00,  5.06it/s]\n"
     ]
    },
    {
     "name": "stdout",
     "output_type": "stream",
     "text": [
      "[ 0.9823392  -0.05211102  0.98168236  0.19041768  0.19143486 -1.8129274\n",
      "  0.9625956  -0.21459176  0.96417654 -0.26478532 -0.26790646 -4.0010476 ]\n",
      "==============================t=  6\n"
     ]
    },
    {
     "name": "stderr",
     "output_type": "stream",
     "text": [
      "100%|███████████████████████████████████████████████████████████████████████████████████| 10/10 [00:02<00:00,  4.96it/s]\n"
     ]
    },
    {
     "name": "stdout",
     "output_type": "stream",
     "text": [
      "[ 0.9735375  -0.1004946   0.9877566   0.15571545  0.15611963 -2.4249005\n",
      "  0.9439274  -0.27122226  0.94225264 -0.33441126 -0.34089077 -4.7570705 ]\n",
      "==============================t=  7\n"
     ]
    },
    {
     "name": "stderr",
     "output_type": "stream",
     "text": [
      "100%|███████████████████████████████████████████████████████████████████████████████████| 10/10 [00:01<00:00,  5.10it/s]\n"
     ]
    },
    {
     "name": "stdout",
     "output_type": "stream",
     "text": [
      "[ 0.9602475  -0.15859501  0.9938465   0.11003427  0.10992995 -3.1178608\n",
      "  0.917848   -0.33651412  0.91060686 -0.41279548 -0.42542547 -5.3870955 ]\n",
      "==============================t=  8\n"
     ]
    },
    {
     "name": "stderr",
     "output_type": "stream",
     "text": [
      "100%|███████████████████████████████████████████████████████████████████████████████████| 10/10 [00:01<00:00,  5.15it/s]\n"
     ]
    },
    {
     "name": "stdout",
     "output_type": "stream",
     "text": [
      "[ 0.94112873 -0.2259903   0.99853945  0.05197359  0.05154933 -3.887813\n",
      "  0.8830209  -0.4088355   0.86777574 -0.4964758  -0.5194523  -5.896119  ]\n",
      "==============================t=  9\n"
     ]
    },
    {
     "name": "stderr",
     "output_type": "stream",
     "text": [
      "100%|███████████████████████████████████████████████████████████████████████████████████| 10/10 [00:02<00:00,  4.98it/s]\n"
     ]
    },
    {
     "name": "stdout",
     "output_type": "stream",
     "text": [
      "[ 0.9146604  -0.3018968   0.99967223 -0.01961915 -0.02020586 -4.7228093\n",
      "  0.8384405  -0.48607814  0.8128724  -0.58196056 -0.62108785 -6.300147  ]\n",
      "==============================t=  10\n"
     ]
    },
    {
     "name": "stderr",
     "output_type": "stream",
     "text": [
      "100%|███████████████████████████████████████████████████████████████████████████████████| 10/10 [00:02<00:00,  4.99it/s]\n"
     ]
    },
    {
     "name": "stdout",
     "output_type": "stream",
     "text": [
      "[ 0.91579735 -0.33428442  0.9942288  -0.10531553 -0.10627792 -5.6058383\n",
      "  0.8440788  -0.48165387  0.7456204  -0.6659139  -0.72873384 -6.617373  ]\n",
      "==============================t=  11\n"
     ]
    },
    {
     "name": "stderr",
     "output_type": "stream",
     "text": [
      "100%|███████████████████████████████████████████████████████████████████████████████████| 10/10 [00:01<00:00,  5.08it/s]\n"
     ]
    },
    {
     "name": "stdout",
     "output_type": "stream",
     "text": [
      "[ 0.8772819  -0.423538    0.97914857 -0.20210053 -0.20444943 -6.1747427\n",
      "  0.79042697 -0.5641452   0.6726767  -0.7396694  -0.83251363 -5.836198  ]\n",
      "==============================t=  12\n"
     ]
    },
    {
     "name": "stderr",
     "output_type": "stream",
     "text": [
      "100%|███████████████████████████████████████████████████████████████████████████████████| 10/10 [00:01<00:00,  5.09it/s]\n"
     ]
    },
    {
     "name": "stdout",
     "output_type": "stream",
     "text": [
      "[ 0.83219576 -0.5112299   0.9518466  -0.30589423 -0.31198737 -6.729809\n",
      "  0.7342769  -0.6390823   0.60280144 -0.79772    -0.92337507 -5.067176  ]\n",
      "==============================t=  13\n"
     ]
    },
    {
     "name": "stderr",
     "output_type": "stream",
     "text": [
      "100%|███████████████████████████████████████████████████████████████████████████████████| 10/10 [00:01<00:00,  5.02it/s]\n"
     ]
    },
    {
     "name": "stdout",
     "output_type": "stream",
     "text": [
      "[ 0.7802197  -0.59637535  0.90999    -0.41416612 -0.42828482 -7.2258854\n",
      "  0.6765622  -0.70680594  0.5382015  -0.8426534  -1.0020778  -4.3771467 ]\n"
     ]
    }
   ],
   "source": [
    "residuals = []\n",
    "stds = []\n",
    "d_vectors = []\n",
    "for t,z in enumerate(measurements):\n",
    "    print(\"==============================t= \",t)\n",
    "    for i in tqdm(range(10)):\n",
    "        H = p2.measurement_jacobian(x_k)\n",
    "        G = p2.constraint_jacobian(x_k,x_t_h)\n",
    "        d = d_vec(x_k,x_t_h,z)\n",
    "        x_k = update_rule(x_k,H,G,W,P,d)\n",
    "    print(x_k)\n",
    "    #Save residuals and standard deviations\n",
    "    d_vectors.append(d_vec(x_k,x_t_h,z))\n",
    "    stds.append(std(H,G,W,P))\n",
    "    residuals.append(p2.h(x_k)-z)\n",
    "    X.append(x_k)\n",
    "    x_t_h = x_k\n",
    "    "
   ]
  },
  {
   "cell_type": "code",
   "execution_count": null,
   "id": "4a4bbf0a",
   "metadata": {},
   "outputs": [],
   "source": []
  },
  {
   "cell_type": "code",
   "execution_count": 36,
   "id": "aa8ca312",
   "metadata": {},
   "outputs": [
    {
     "data": {
      "text/plain": [
       "<matplotlib.legend.Legend at 0x7f80a05fb220>"
      ]
     },
     "execution_count": 36,
     "metadata": {},
     "output_type": "execute_result"
    },
    {
     "data": {
      "image/png": "[encoded data removed]",
      "text/plain": [
       "<Figure size 432x288 with 1 Axes>"
      ]
     },
     "metadata": {},
     "output_type": "display_data"
    }
   ],
   "source": [
    "import matplotlib.pyplot as plt\n",
    "X = jnp.asarray(X)\n",
    "names = ['$v_{1,r}$','$v_{1,i}$','$v_{2,r}$','$v_{2,i}$','$i_{1,r}$','$i_{1,i}$','$i_{2,r}$','$i_{2,i}$','$i_{gr}$','$i_{gi}$','$i_{mr}$','$i_{mi}$','$\\omega_g$','$\\omega_m$']\n",
    "for i in range(12):\n",
    "    name = names[i]\n",
    "    plt.plot(X[:,i],label=name)\n",
    "plt.legend()"
   ]
  },
  {
   "cell_type": "code",
   "execution_count": 37,
   "id": "1d14e5e0",
   "metadata": {},
   "outputs": [
    {
     "data": {
      "text/plain": [
       "<matplotlib.legend.Legend at 0x7f80a04341f0>"
      ]
     },
     "execution_count": 37,
     "metadata": {},
     "output_type": "execute_result"
    },
    {
     "data": {
      "image/png": "[encoded data removed]",
      "text/plain": [
       "<Figure size 504x311.442 with 6 Axes>"
      ]
     },
     "metadata": {},
     "output_type": "display_data"
    }
   ],
   "source": [
    "figscale = 2\n",
    "fig,axes = plt.subplots(nrows=2,ncols=3,figsize=(figscale*3.5,figscale*3.5/1.61828),constrained_layout=True,sharex=True)\n",
    "axes[1,0].set_xlabel(\"time t (t/60)s\")\n",
    "axes[1,1].set_xlabel(\"time t (t/60)s\")\n",
    "axes[1,2].set_xlabel(\"time t (t/60)s\")\n",
    "\n",
    "\n",
    "#Generator and motor speed\n",
    "axes[0,0].plot([p2.omegag(x) for x in X],label=\"$\\omega_g$\")\n",
    "axes[0,0].plot([p2.omegam(x) for x in X],label=\"$\\omega_m$\")\n",
    "axes[0,0].legend()\n",
    "axes[0,0].set_title(\"Angular Velocities\")\n",
    "axes[0,0].set_ylabel(\"rad/s\")\n",
    "axes[0,0].grid()\n",
    "\n",
    "#Deltas\n",
    "axes[0,1].plot([p2.deltag(x) for x in X],label=\"$\\delta_g$\")\n",
    "axes[0,1].plot([p2.deltam(x) for x in X],label=\"$\\delta_m$\")\n",
    "axes[0,1].legend()\n",
    "axes[0,1].set_title(\"Rotor Angles\")\n",
    "axes[0,1].set_ylabel(\"Radians\")\n",
    "axes[0,1].grid()\n",
    "\n",
    "#Voltages\n",
    "axes[0,2].plot([p2.v1r(x) for x in X],label=\"$V_{1,r}$\")\n",
    "axes[0,2].plot([p2.v2r(x) for x in X],label=\"$V_{2,r}$\")\n",
    "axes[0,2].plot([p2.v1i(x) for x in X],label=\"$V_{1,i}$\")\n",
    "axes[0,2].plot([p2.v2i(x) for x in X],label=\"$V_{2,i}$\")\n",
    "axes[0,2].legend()\n",
    "axes[0,2].set_title(\"Real/Imag Part of Voltages\")\n",
    "axes[0,2].set_ylabel(\"Volts\")\n",
    "axes[0,2].grid()\n",
    "\n",
    "#Voltage mags\n",
    "axes[1,0].plot([jnp.abs(p2.v1r(x) + p2.v1i(x)*1j) for x in X],label=r\"$|\\tilde{V}_1|$\")\n",
    "axes[1,0].plot([jnp.abs(p2.v2r(x) + p2.v2i(x)*1j) for x in X],label=r\"$|\\tilde{V}_{2}|$\")\n",
    "axes[1,0].set_ylabel(\"V RMS\")\n",
    "axes[1,0].set_title(\"Line Voltage Mags.\")\n",
    "axes[1,0].set_ylim(0.5,1.1)\n",
    "axes[1,0].legend()\n",
    "axes[1,0].grid()\n",
    "\n",
    "#Voltage angles\n",
    "axes[1,1].plot([jnp.angle(p2.v1r(x) + p2.v1i(x)*1j) for x in X],label=r\"$\\angle\\tilde{V}_1$\")\n",
    "axes[1,1].plot([jnp.angle(p2.v2r(x) + p2.v2i(x)*1j)for x in X],label=r\"$\\angle\\tilde{V}_{2}$\")\n",
    "axes[1,1].set_ylabel(\"Radians\")\n",
    "axes[1,1].legend()\n",
    "axes[1,1].grid()\n",
    "axes[1,1].set_title(\"Line Voltage Angles\")\n",
    "\n",
    "\n",
    "#Voltage angles\n",
    "axes[1,2].grid()\n",
    "axes[1,2].plot([p2.cg(x) for x in X],label=r'$c_g$')\n",
    "axes[1,2].plot([p2.cm(x) for x in X],label=r'$c_m$')\n",
    "axes[1,2].plot([p2.sg(x) for x in X],'--',label=r'$s_g$')\n",
    "axes[1,2].plot([p2.sm(x) for x in X],'--',label=r'$s_m$')\n",
    "axes[1,2].set_title(\"Trig. Relationships\")\n",
    "axes[1,2].legend()\n",
    "\n",
    "\n",
    "#save\n",
    "#plt.savefig(\"Figures/results.png\",dpi=400)"
   ]
  },
  {
   "cell_type": "code",
   "execution_count": 38,
   "id": "7f55f8fd",
   "metadata": {},
   "outputs": [],
   "source": [
    "import pandas as pd\n",
    "import numpy as np\n",
    "\n",
    "STDS = np.asarray(stds)\n",
    "\n",
    "df = pd.DataFrame()\n",
    "names = ['$v_{1,r}$','$v_{1,i}$','$c_g$','$s_g$','$\\delta_g$','$\\omega_g$','$v_{2,r}$','$v_{2,i}$','$c_{m}$','$s_m$','$\\delta_m$','$\\omega_m$']\n",
    "stds_list = []\n",
    "labels = []\n",
    "for j,s_j in enumerate(STDS.T):\n",
    "    labels.append([names[j] for i in range(len(s_j))])\n",
    "    stds_list.append(s_j)\n",
    "\n",
    "df['Standard Deviation'] = np.asarray(stds).flatten()\n",
    "df['states'] = np.asarray(labels).flatten()"
   ]
  },
  {
   "cell_type": "code",
   "execution_count": 39,
   "id": "4216ada1",
   "metadata": {},
   "outputs": [
    {
     "data": {
      "image/png": "[encoded data removed]",
      "text/plain": [
       "<Figure size 504x311.442 with 1 Axes>"
      ]
     },
     "metadata": {},
     "output_type": "display_data"
    }
   ],
   "source": [
    "fig,ax = plt.subplots(figsize=(2*3.5,2*3.5/1.61828))\n",
    "plt.grid()\n",
    "sns.boxplot(data=df,x='states',y='Standard Deviation',hue='states')\n",
    "plt.legend(frameon=False)\n",
    "plt.savefig(\"Figures/std.png\",dpi=400)\n"
   ]
  },
  {
   "cell_type": "markdown",
   "id": "12696d02-c61a-46d1-a912-1ee217413a68",
   "metadata": {},
   "source": [
    "## \"Chi squared test\""
   ]
  },
  {
   "cell_type": "code",
   "execution_count": 54,
   "id": "75cb8e55",
   "metadata": {},
   "outputs": [
    {
     "name": "stdout",
     "output_type": "stream",
     "text": [
      "Xi Squared Statistic:  8.2914084e-05\n",
      "P-Value:  0.9999585438170877\n",
      "Xi Squared Statistic:  5.3297903e-05\n",
      "P-Value:  0.9999733514036186\n",
      "Xi Squared Statistic:  0.9069432\n",
      "P-Value:  0.6354183989960542\n",
      "Xi Squared Statistic:  0.01503983\n",
      "P-Value:  0.9925082890493777\n",
      "Xi Squared Statistic:  0.02292981\n",
      "P-Value:  0.9886005665821512\n",
      "Xi Squared Statistic:  0.03636308\n",
      "P-Value:  0.9819827469572678\n",
      "Xi Squared Statistic:  0.054109015\n",
      "P-Value:  0.9733081876913134\n",
      "Xi Squared Statistic:  0.069443345\n",
      "P-Value:  0.9658742081696696\n",
      "Xi Squared Statistic:  0.08370743\n",
      "P-Value:  0.9590100593532013\n",
      "Xi Squared Statistic:  0.11207059\n",
      "P-Value:  0.9455057635537324\n",
      "Xi Squared Statistic:  0.9774729\n",
      "P-Value:  0.613400967105504\n",
      "Xi Squared Statistic:  0.10633592\n",
      "P-Value:  0.9482207344936092\n",
      "Xi Squared Statistic:  0.081981346\n",
      "P-Value:  0.9598380823104865\n",
      "Xi Squared Statistic:  0.0782011\n",
      "P-Value:  0.9616540098634999\n"
     ]
    }
   ],
   "source": [
    "from scipy.stats import chi2\n",
    "\n",
    "def goodness_of_fit(xi,df):\n",
    "    return 1 - chi2.cdf(xi,df)\n",
    "\n",
    "xis = []\n",
    "for d in d_vectors:\n",
    "    xi = W[0,0]*d.T@d\n",
    "    print(\"Xi Squared Statistic: \",xi)\n",
    "    xis.append(xi)\n",
    "    print(\"P-Value: \",goodness_of_fit(xi,2))\n",
    "    "
   ]
  },
  {
   "cell_type": "code",
   "execution_count": 55,
   "id": "a50b58df-5ee1-494a-917c-514ac72c7450",
   "metadata": {},
   "outputs": [
    {
     "data": {
      "text/plain": [
       "DeviceArray([ 2.1970272e-04,  6.2465668e-04,  5.6219101e-04,\n",
       "              1.9407272e-04,  2.2947788e-04,  5.6886673e-04,\n",
       "             -2.2947788e-04, -5.6886673e-04, -8.9865923e-04,\n",
       "             -1.6685724e-03,  6.0737133e-04,  1.4979243e-03,\n",
       "              1.1444092e-04, -1.4686584e-04, -8.7041408e-05,\n",
       "              3.7252903e-09,  8.8606030e-05, -3.7301332e-05,\n",
       "              1.0100752e-04, -5.5879354e-08, -9.2096627e-05,\n",
       "              2.8531998e-05], dtype=float32)"
      ]
     },
     "execution_count": 55,
     "metadata": {},
     "output_type": "execute_result"
    }
   ],
   "source": [
    "d"
   ]
  },
  {
   "cell_type": "markdown",
   "id": "0fbfe329-2ed4-4905-9012-d2824e21a47d",
   "metadata": {},
   "source": [
    "# Bonus"
   ]
  },
  {
   "cell_type": "code",
   "execution_count": 96,
   "id": "37675609-ae64-4982-b9b1-1e2727e3b64a",
   "metadata": {},
   "outputs": [],
   "source": [
    "measurements = jnp.array([\n",
    "    [1.000, 0.100, 1.000, 0.000, 0.750, 0.000, -0.750, 0.000, -0.750, 0.000, 0.750, 0.000, 0.000, 0.000],\n",
    "    [1.000, 0.100, 1.000, 0.000, 0.750, 0.000, -0.750, 0.000, -0.750, 0.000, 0.750, 0.000, 0.000, 0.000], \n",
    "    [0.993, 0.030, 0.987, -0.114, 1.079, -0.041, -1.079, 0.041, -1.079, 0.041, 0.141, 0.068, -0.392, -1.092],\n",
    "    [0.991, 0.013, 0.983, -0.135, 1.111, -0.060, -1.111, 0.060, -1.111, 0.060, 0.177, 0.068, -0.811, -2.146],\n",
    "    [0.988, -0.014, 0.975, -0.169, 1.160, -0.095, -1.160, 0.095, -1.160, 0.095, 0.233, 0.065, -1.278, -3.125],\n",
    "    [0.982, -0.052, 0.963, -0.215, 1.219, -0.148, -1.219, 0.148, -1.219, 0.148, 0.305, 0.056, -1.813, -4.001],\n",
    "    [0.915, -0.185, 0.944, -0.271, 1.257, -0.333, -1.281, 0.222,  -1.257, 0.333, 0.384, 0.036, -2.425, -4.757],\n",
    "    [0.942, -0.242, 0.918, -0.337, 1.302, -0.433, -1.335, 0.318, -1.302, 0.433, 0.464, 0.002, -3.118, -5.387],\n",
    "    [0.918, -0.307, 0.883, -0.409, 1.329, -0.554, -1.372, 0.436,  -1.329, 0.554, 0.534, -0.047, -3.888, -5.896],\n",
    "    [0.915, -0.302, 0.838, -0.487, 1.382, -0.572, -1.382, 0.572,  -1.382, 0.572, 0.586, -0.110, -4.723, -6.300], \n",
    "    [0.916, -0.334, 0.844, -0.482, 1.106, -0.538, -1.106, 0.538,  -1.106, 0.538, 1.106, -0.538, -5.609, -6.622],\n",
    "    [0.877, -0.424, 0.790, -0.565, 1.055, -0.652, -1.055, 0.652, -1.055, 0.652, 1.055, -0.652, -6.175, -5.836],\n",
    "    [0.832, -0.512, 0.734, -0.640, 0.959, -0.735, -0.959, 0.735, -0.959, 0.735, 0.959, -0.735, -6.730, -5.067], \n",
    "    [0.780, -0.597, 0.676, -0.707, 0.828, -0.778, -0.828, 0.778, -0.828, 0.778, 0.828, -0.778, -7.226, -4.377]\n",
    "])"
   ]
  },
  {
   "cell_type": "code",
   "execution_count": 58,
   "id": "b7d40cbc",
   "metadata": {},
   "outputs": [
    {
     "name": "stdout",
     "output_type": "stream",
     "text": [
      "==============================t=  0\n"
     ]
    },
    {
     "name": "stderr",
     "output_type": "stream",
     "text": [
      "100%|███████████████████████████████████████████████████████████████████████████████████| 10/10 [00:02<00:00,  4.96it/s]\n"
     ]
    },
    {
     "name": "stdout",
     "output_type": "stream",
     "text": [
      "[ 9.9999207e-01  9.9987574e-02  9.6944714e-01  2.4531028e-01\n",
      "  2.4783680e-01  3.8470339e-06  9.9999356e-01 -1.0083646e-05\n",
      "  9.9174124e-01 -1.2824519e-01 -1.2859677e-01 -2.6457310e-06]\n",
      "==============================t=  1\n"
     ]
    },
    {
     "name": "stderr",
     "output_type": "stream",
     "text": [
      "100%|███████████████████████████████████████████████████████████████████████████████████| 10/10 [00:01<00:00,  5.16it/s]\n"
     ]
    },
    {
     "name": "stdout",
     "output_type": "stream",
     "text": [
      "[ 9.9999213e-01  9.9987730e-02  9.6944857e-01  2.4531260e-01\n",
      "  2.4783686e-01  2.7119504e-06  9.9999332e-01 -1.0417125e-05\n",
      "  9.9173993e-01 -1.2824722e-01 -1.2859681e-01 -2.4725243e-06]\n",
      "==============================t=  2\n"
     ]
    },
    {
     "name": "stderr",
     "output_type": "stream",
     "text": [
      "100%|███████████████████████████████████████████████████████████████████████████████████| 10/10 [00:01<00:00,  5.05it/s]\n"
     ]
    },
    {
     "name": "stdout",
     "output_type": "stream",
     "text": [
      "[ 0.992488    0.02915277  0.9702432   0.24216595  0.24459752 -0.3887222\n",
      "  0.9870049  -0.11472488  0.99052775 -0.13720585 -0.13765539 -1.0870275 ]\n",
      "==============================t=  3\n"
     ]
    },
    {
     "name": "stderr",
     "output_type": "stream",
     "text": [
      "100%|███████████████████████████████████████████████████████████████████████████████████| 10/10 [00:02<00:00,  4.93it/s]\n"
     ]
    },
    {
     "name": "stdout",
     "output_type": "stream",
     "text": [
      "[ 0.9909623   0.01324219  0.9726021   0.23249294  0.2346002  -0.8109563\n",
      "  0.98295516 -0.13485447  0.98644185 -0.16387439 -0.16459724 -2.1459942 ]\n",
      "==============================t=  4\n"
     ]
    },
    {
     "name": "stderr",
     "output_type": "stream",
     "text": [
      "100%|███████████████████████████████████████████████████████████████████████████████████| 10/10 [00:01<00:00,  5.01it/s]\n"
     ]
    },
    {
     "name": "stdout",
     "output_type": "stream",
     "text": [
      "[ 0.9878512  -0.01414988  0.9764885   0.21557842  0.21719241 -1.2779791\n",
      "  0.9751815  -0.16877246  0.9782392  -0.20706499 -0.20852245 -3.1250308 ]\n",
      "==============================t=  5\n"
     ]
    },
    {
     "name": "stderr",
     "output_type": "stream",
     "text": [
      "100%|███████████████████████████████████████████████████████████████████████████████████| 10/10 [00:02<00:00,  4.92it/s]\n"
     ]
    },
    {
     "name": "stdout",
     "output_type": "stream",
     "text": [
      "[ 0.9823392  -0.05211102  0.98168236  0.19041768  0.19143486 -1.8129274\n",
      "  0.9625956  -0.21459176  0.96417654 -0.26478532 -0.26790646 -4.0010476 ]\n",
      "==============================t=  6\n"
     ]
    },
    {
     "name": "stderr",
     "output_type": "stream",
     "text": [
      "100%|███████████████████████████████████████████████████████████████████████████████████| 10/10 [00:01<00:00,  5.09it/s]\n"
     ]
    },
    {
     "name": "stdout",
     "output_type": "stream",
     "text": [
      "[ 0.9654141  -0.10108717  0.9906234   0.15462786  0.15611017 -2.426036\n",
      "  0.93132555 -0.27040276  0.9390679  -0.33421332 -0.340898   -4.75794   ]\n",
      "==============================t=  7\n"
     ]
    },
    {
     "name": "stderr",
     "output_type": "stream",
     "text": [
      "100%|███████████████████████████████████████████████████████████████████████████████████| 10/10 [00:02<00:00,  4.79it/s]\n"
     ]
    },
    {
     "name": "stdout",
     "output_type": "stream",
     "text": [
      "[ 0.9526552  -0.1589732   0.99922043  0.10765138  0.10990285 -3.1188421\n",
      "  0.90488625 -0.33494616  0.9049745  -0.41207132 -0.4254477  -5.3880224 ]\n",
      "==============================t=  8\n"
     ]
    },
    {
     "name": "stderr",
     "output_type": "stream",
     "text": [
      "100%|███████████████████████████████████████████████████████████████████████████████████| 10/10 [00:02<00:00,  4.94it/s]\n"
     ]
    },
    {
     "name": "stdout",
     "output_type": "stream",
     "text": [
      "[ 0.9332026  -0.22603343  1.0058888   0.04808407  0.05150722 -3.888634\n",
      "  0.86919165 -0.40631148  0.86014694 -0.4949261  -0.5194899  -5.897041  ]\n",
      "==============================t=  9\n"
     ]
    },
    {
     "name": "stderr",
     "output_type": "stream",
     "text": [
      "100%|███████████████████████████████████████████████████████████████████████████████████| 10/10 [00:01<00:00,  5.01it/s]\n"
     ]
    },
    {
     "name": "stdout",
     "output_type": "stream",
     "text": [
      "[ 0.9143398  -0.3028535   1.005228   -0.02331581 -0.02024912 -4.7221265\n",
      "  0.8368255  -0.48642996  0.8069181  -0.5803319  -0.621132   -6.3000126 ]\n",
      "==============================t=  10\n"
     ]
    },
    {
     "name": "stderr",
     "output_type": "stream",
     "text": [
      "100%|███████████████████████████████████████████████████████████████████████████████████| 10/10 [00:02<00:00,  4.94it/s]\n"
     ]
    },
    {
     "name": "stdout",
     "output_type": "stream",
     "text": [
      "[ 0.91543555 -0.3351482   0.9983164  -0.10879015 -0.10631102 -5.6053004\n",
      "  0.84273714 -0.48194167  0.7409998  -0.664301   -0.7287749  -6.61713   ]\n",
      "==============================t=  11\n"
     ]
    },
    {
     "name": "stderr",
     "output_type": "stream",
     "text": [
      "100%|███████████████████████████████████████████████████████████████████████████████████| 10/10 [00:01<00:00,  5.02it/s]\n"
     ]
    },
    {
     "name": "stdout",
     "output_type": "stream",
     "text": [
      "[ 0.8768636  -0.42434606  0.9820389  -0.20532565 -0.20447434 -6.174297\n",
      "  0.7892799  -0.56442034  0.6690862  -0.73818463 -0.8325512  -5.836022  ]\n",
      "==============================t=  12\n"
     ]
    },
    {
     "name": "stderr",
     "output_type": "stream",
     "text": [
      "100%|███████████████████████████████████████████████████████████████████████████████████| 10/10 [00:01<00:00,  5.02it/s]\n"
     ]
    },
    {
     "name": "stdout",
     "output_type": "stream",
     "text": [
      "[ 0.8316951  -0.5120135   0.9537651  -0.30884424 -0.31200567 -6.7294602\n",
      "  0.73324305 -0.6393887   0.5999761  -0.7964514  -0.92341006 -5.0670404 ]\n",
      "==============================t=  13\n"
     ]
    },
    {
     "name": "stderr",
     "output_type": "stream",
     "text": [
      "100%|███████████████████████████████████████████████████████████████████████████████████| 10/10 [00:02<00:00,  4.85it/s]"
     ]
    },
    {
     "name": "stdout",
     "output_type": "stream",
     "text": [
      "[ 0.77961797 -0.59714323  0.9111204  -0.41682488 -0.428298   -7.225618\n",
      "  0.6755785  -0.70715773  0.5359287  -0.8416334  -1.0021108  -4.3770485 ]\n"
     ]
    },
    {
     "name": "stderr",
     "output_type": "stream",
     "text": [
      "\n"
     ]
    }
   ],
   "source": [
    "\n",
    "\n",
    "x_k = jnp.array([jnp.real(V1),jnp.imag(V1),jnp.cos(jnp.angle(Eg)),jnp.sin(jnp.angle(Eg)),jnp.angle(Eg),0,jnp.real(V2),jnp.imag(V2),jnp.cos(jnp.angle(Em)),jnp.sin(jnp.angle(Em)),jnp.angle(Em),0])\n",
    "\n",
    "X = []\n",
    "tol = 1e-6\n",
    "k = 0\n",
    "x_t_h = x_k\n",
    "residuals = []\n",
    "stds = []\n",
    "d_vectors = []\n",
    "for t,z in enumerate(measurements):\n",
    "    print(\"==============================t= \",t)\n",
    "    for i in tqdm(range(10)):\n",
    "        H = p2.measurement_jacobian(x_k)\n",
    "        G = p2.constraint_jacobian(x_k,x_t_h)\n",
    "        d = d_vec(x_k,x_t_h,z)\n",
    "        x_k = update_rule(x_k,H,G,W,P,d)\n",
    "    print(x_k)\n",
    "    #Save residuals and standard deviations\n",
    "    d_vectors.append(d_vec(x_k,x_t_h,z))\n",
    "    stds.append(std(H,G,W,P))\n",
    "    residuals.append(p2.h(x_k)-z)\n",
    "    X.append(x_k)\n",
    "    x_t_h = x_k\n",
    "    "
   ]
  },
  {
   "cell_type": "code",
   "execution_count": 59,
   "id": "c455acab-27db-4387-8199-22c9593b2f1e",
   "metadata": {},
   "outputs": [
    {
     "data": {
      "image/png": "[encoded data removed]",
      "text/plain": [
       "<Figure size 504x311.442 with 6 Axes>"
      ]
     },
     "metadata": {},
     "output_type": "display_data"
    }
   ],
   "source": [
    "figscale = 2\n",
    "fig,axes = plt.subplots(nrows=2,ncols=3,figsize=(figscale*3.5,figscale*3.5/1.61828),constrained_layout=True,sharex=True)\n",
    "axes[1,0].set_xlabel(\"time t (t/60)s\")\n",
    "axes[1,1].set_xlabel(\"time t (t/60)s\")\n",
    "axes[1,2].set_xlabel(\"time t (t/60)s\")\n",
    "\n",
    "\n",
    "#Generator and motor speed\n",
    "axes[0,0].plot([p2.omegag(x) for x in X],label=\"$\\omega_g$\")\n",
    "axes[0,0].plot([p2.omegam(x) for x in X],label=\"$\\omega_m$\")\n",
    "axes[0,0].legend()\n",
    "axes[0,0].set_title(\"Angular Velocities\")\n",
    "axes[0,0].set_ylabel(\"rad/s\")\n",
    "axes[0,0].grid()\n",
    "\n",
    "#Deltas\n",
    "axes[0,1].plot([p2.deltag(x) for x in X],label=\"$\\delta_g$\")\n",
    "axes[0,1].plot([p2.deltam(x) for x in X],label=\"$\\delta_m$\")\n",
    "axes[0,1].legend()\n",
    "axes[0,1].set_title(\"Rotor Angles\")\n",
    "axes[0,1].set_ylabel(\"Radians\")\n",
    "axes[0,1].grid()\n",
    "\n",
    "#Voltages\n",
    "axes[0,2].plot([p2.v1r(x) for x in X],label=\"$V_{1,r}$\")\n",
    "axes[0,2].plot([p2.v2r(x) for x in X],label=\"$V_{2,r}$\")\n",
    "axes[0,2].plot([p2.v1i(x) for x in X],label=\"$V_{1,i}$\")\n",
    "axes[0,2].plot([p2.v2i(x) for x in X],label=\"$V_{2,i}$\")\n",
    "axes[0,2].legend()\n",
    "axes[0,2].set_title(\"Real/Imag Part of Voltages\")\n",
    "axes[0,2].set_ylabel(\"Volts\")\n",
    "axes[0,2].grid()\n",
    "\n",
    "#Voltage mags\n",
    "axes[1,0].plot([jnp.abs(p2.v1r(x) + p2.v1i(x)*1j) for x in X],label=r\"$|\\tilde{V}_1|$\")\n",
    "axes[1,0].plot([jnp.abs(p2.v2r(x) + p2.v2i(x)*1j) for x in X],label=r\"$|\\tilde{V}_{2}|$\")\n",
    "axes[1,0].set_ylabel(\"V RMS\")\n",
    "axes[1,0].set_title(\"Line Voltage Mags.\")\n",
    "axes[1,0].set_ylim(0.5,1.1)\n",
    "axes[1,0].legend()\n",
    "axes[1,0].grid()\n",
    "\n",
    "#Voltage angles\n",
    "axes[1,1].plot([jnp.angle(p2.v1r(x) + p2.v1i(x)*1j) for x in X],label=r\"$\\angle\\tilde{V}_1$\")\n",
    "axes[1,1].plot([jnp.angle(p2.v2r(x) + p2.v2i(x)*1j)for x in X],label=r\"$\\angle\\tilde{V}_{2}$\")\n",
    "axes[1,1].set_ylabel(\"Radians\")\n",
    "axes[1,1].legend()\n",
    "axes[1,1].grid()\n",
    "axes[1,1].set_title(\"Line Voltage Angles\")\n",
    "\n",
    "\n",
    "#Voltage angles\n",
    "axes[1,2].grid()\n",
    "axes[1,2].plot([p2.cg(x) for x in X],label=r'$c_g$')\n",
    "axes[1,2].plot([p2.cm(x) for x in X],label=r'$c_m$')\n",
    "axes[1,2].plot([p2.sg(x) for x in X],'--',label=r'$s_g$')\n",
    "axes[1,2].plot([p2.sm(x) for x in X],'--',label=r'$s_m$')\n",
    "axes[1,2].set_title(\"Trig. Relationships\")\n",
    "axes[1,2].legend()\n",
    "\n",
    "\n",
    "#save\n",
    "plt.savefig(\"Figures/results_v2.png\",dpi=400)"
   ]
  },
  {
   "cell_type": "code",
   "execution_count": 63,
   "id": "efbfc496-5bd1-4b54-8eac-8b29bf740ad5",
   "metadata": {},
   "outputs": [
    {
     "name": "stdout",
     "output_type": "stream",
     "text": [
      "Xi Squared Statistic:  8.2914084e-05\n",
      "P-Value:  0.9999585438170877\n",
      "Xi Squared Statistic:  5.3297903e-05\n",
      "P-Value:  0.9999733514036186\n",
      "Xi Squared Statistic:  0.9069432\n",
      "P-Value:  0.6354183989960542\n",
      "Xi Squared Statistic:  0.01503983\n",
      "P-Value:  0.9925082890493777\n",
      "Xi Squared Statistic:  0.02292981\n",
      "P-Value:  0.9886005665821512\n",
      "Xi Squared Statistic:  0.03636308\n",
      "P-Value:  0.9819827469572678\n",
      "Xi Squared Statistic:  237.12466\n",
      "P-Value:  0.0\n",
      "Xi Squared Statistic:  197.50159\n",
      "P-Value:  0.0\n",
      "Xi Squared Statistic:  189.29095\n",
      "P-Value:  0.0\n",
      "Xi Squared Statistic:  20.803785\n",
      "P-Value:  3.037493907553923e-05\n",
      "Xi Squared Statistic:  14.382118\n",
      "P-Value:  0.000753290878031998\n",
      "Xi Squared Statistic:  7.9266706\n",
      "P-Value:  0.01899963946256855\n",
      "Xi Squared Statistic:  4.56336\n",
      "P-Value:  0.10211250257297466\n",
      "Xi Squared Statistic:  2.4619586\n",
      "P-Value:  0.29200646884305215\n"
     ]
    }
   ],
   "source": [
    "from scipy.stats import chi2\n",
    "\n",
    "def goodness_of_fit(xi,df):\n",
    "    return 1 - chi2.cdf(xi,df)\n",
    "\n",
    "xis = []\n",
    "for d in d_vectors:\n",
    "    xi = W[0,0]*d.T@d\n",
    "    print(\"Xi Squared Statistic: \",xi)\n",
    "    xis.append(xi)\n",
    "    print(\"P-Value: \",goodness_of_fit(xi,2))\n",
    "    "
   ]
  },
  {
   "cell_type": "code",
   "execution_count": 102,
   "id": "049a32b3-e582-4c62-8907-2af91025d194",
   "metadata": {},
   "outputs": [],
   "source": [
    "def h_spoof(z):\n",
    "    v1 = z[0] + z[1]*1j\n",
    "    i1 = z[4] + z[5]*1j\n",
    "    ig = z[8] + z[9]*1j\n",
    "    ph_spoofed = []\n",
    "    for phasor in [v1,i1,ig]:\n",
    "        ph_spoofed.append(phasor*np.exp(-1j*np.deg2rad(5)))\n",
    "    z[0] = np.real(ph_spoofed[0])\n",
    "    z[1] = np.imag(ph_spoofed[0])\n",
    "\n",
    "    z[4] = np.real(ph_spoofed[1])\n",
    "    z[5] = np.imag(ph_spoofed[1])\n",
    "   \n",
    "    z[8] = np.real(ph_spoofed[2])\n",
    "    z[9] = np.imag(ph_spoofed[2])\n",
    "    \n",
    "    return z\n",
    "\n",
    "def v1r_spoof(x):\n",
    "    return jnp.abs(x[0]+x[1])*jnp.cos(x[-1])\n",
    "\n",
    "def v1_ispoof(x):\n",
    "    return jnp.abs(x[0]+x[1])*jnp.sin(x[-1])\n",
    "\n",
    "\n",
    "def h_spoof(x):\n",
    "    h1 = jnp.abs(x[0]+x[1])*jnp.cos(x[-1]) #V1_r\n",
    "    h2 = jnp.abs(x[0]+x[1])*jnp.sin(x[-1]) #V1_i\n",
    "    h3 = v2r(x) #V2_r\n",
    "    h4 = v2i(x) #V2_i\n",
    "    h5 = b*(jnp.abs(x[0]+x[1])*jnp.sin(x[-1])-v2i(x)) #I1_r\n",
    "    h6 = -b*(jnp.abs(x[0]+x[1])*jnp.cos(x[-1])-v2r(x)) #I1_i\n",
    "    h7 = b*(v2i(x)-v1i(x)) #I2_r\n",
    "    h8 = -b*(v2r(x)-v1r(x)) #I2_i\n",
    "    h9 = jnp.abs(bg*(jnp.abs(x[0]+x[1])*jnp.sin(x[-1])-np.abs(Eg)*sg(x)))*jnp.cos(x[-1]) #Ig_r\n",
    "    h10 = jnp.abs(-bg*(jnp.abs(x[0]+x[1])*jnp.cos(x[-1])-np.abs(Eg)*cg(x)))*jnp.sin(x[-1]) #Ig_i\n",
    "    h11 = bm*(v2i(x) - np.abs(Em)*sm(x)) #Im_r\n",
    "    h12 = -bm*(v2r(x) - np.abs(Em)*cm(x)) #Im_i\n",
    "    h13 = omegag(x) #omega_g\n",
    "    h14 = omegam(x) #omega_m\n",
    "    return jnp.asarray([h1,h2,h3,h4,h5,h6,h7,h8,h9,h10,h11,h12,h13,h14])\n",
    "\n"
   ]
  },
  {
   "cell_type": "markdown",
   "id": "0e2d460c-4353-4a07-9b68-fc51f9ab1ad1",
   "metadata": {},
   "source": [
    "## Spoof hypothesis"
   ]
  },
  {
   "cell_type": "code",
   "execution_count": 103,
   "id": "58380f1d-191a-439e-8ad0-1956c8738a7d",
   "metadata": {},
   "outputs": [
    {
     "name": "stdout",
     "output_type": "stream",
     "text": [
      "==============================t=  0\n"
     ]
    },
    {
     "name": "stderr",
     "output_type": "stream",
     "text": [
      "100%|███████████████████████████████████████████████████████████████████████████████████| 10/10 [00:01<00:00,  5.03it/s]\n"
     ]
    },
    {
     "name": "stdout",
     "output_type": "stream",
     "text": [
      "[ 9.9999207e-01  9.9987574e-02  9.6944714e-01  2.4531028e-01\n",
      "  2.4783680e-01  3.8470339e-06  9.9999356e-01 -1.0083646e-05\n",
      "  9.9174124e-01 -1.2824519e-01 -1.2859677e-01 -2.6457310e-06]\n",
      "==============================t=  1\n"
     ]
    },
    {
     "name": "stderr",
     "output_type": "stream",
     "text": [
      "100%|███████████████████████████████████████████████████████████████████████████████████| 10/10 [00:02<00:00,  4.96it/s]\n"
     ]
    },
    {
     "name": "stdout",
     "output_type": "stream",
     "text": [
      "[ 9.9999213e-01  9.9987730e-02  9.6944857e-01  2.4531260e-01\n",
      "  2.4783686e-01  2.7119504e-06  9.9999332e-01 -1.0417125e-05\n",
      "  9.9173993e-01 -1.2824722e-01 -1.2859681e-01 -2.4725243e-06]\n",
      "==============================t=  2\n"
     ]
    },
    {
     "name": "stderr",
     "output_type": "stream",
     "text": [
      "100%|███████████████████████████████████████████████████████████████████████████████████| 10/10 [00:02<00:00,  4.81it/s]\n"
     ]
    },
    {
     "name": "stdout",
     "output_type": "stream",
     "text": [
      "[ 0.992488    0.02915277  0.9702432   0.24216595  0.24459752 -0.3887222\n",
      "  0.9870049  -0.11472488  0.99052775 -0.13720585 -0.13765539 -1.0870275 ]\n",
      "==============================t=  3\n"
     ]
    },
    {
     "name": "stderr",
     "output_type": "stream",
     "text": [
      "100%|███████████████████████████████████████████████████████████████████████████████████| 10/10 [00:02<00:00,  4.92it/s]\n"
     ]
    },
    {
     "name": "stdout",
     "output_type": "stream",
     "text": [
      "[ 0.9909623   0.01324219  0.9726021   0.23249294  0.2346002  -0.8109563\n",
      "  0.98295516 -0.13485447  0.98644185 -0.16387439 -0.16459724 -2.1459942 ]\n",
      "==============================t=  4\n"
     ]
    },
    {
     "name": "stderr",
     "output_type": "stream",
     "text": [
      "100%|███████████████████████████████████████████████████████████████████████████████████| 10/10 [00:02<00:00,  4.87it/s]\n"
     ]
    },
    {
     "name": "stdout",
     "output_type": "stream",
     "text": [
      "[ 0.9878512  -0.01414988  0.9764885   0.21557842  0.21719241 -1.2779791\n",
      "  0.9751815  -0.16877246  0.9782392  -0.20706499 -0.20852245 -3.1250308 ]\n",
      "==============================t=  5\n"
     ]
    },
    {
     "name": "stderr",
     "output_type": "stream",
     "text": [
      "100%|███████████████████████████████████████████████████████████████████████████████████| 10/10 [00:01<00:00,  5.00it/s]\n"
     ]
    },
    {
     "name": "stdout",
     "output_type": "stream",
     "text": [
      "[ 0.9823392  -0.05211102  0.98168236  0.19041768  0.19143486 -1.8129274\n",
      "  0.9625956  -0.21459176  0.96417654 -0.26478532 -0.26790646 -4.0010476 ]\n",
      "original:  [ 0.915 -0.185  0.944 -0.271  1.257 -0.333 -1.281  0.222 -1.257  0.333\n",
      "  0.384  0.036 -2.425 -4.757]\n",
      "spoofed:  [ 0.8953944  -0.26404354  0.944      -0.271       1.2231939  -0.4412876\n",
      " -1.281       0.222      -1.2231939   0.4412876   0.384       0.036\n",
      " -2.425      -4.757     ]\n",
      "==============================t=  6\n"
     ]
    },
    {
     "name": "stderr",
     "output_type": "stream",
     "text": [
      "100%|███████████████████████████████████████████████████████████████████████████████████| 10/10 [00:02<00:00,  4.99it/s]\n"
     ]
    },
    {
     "name": "stdout",
     "output_type": "stream",
     "text": [
      "[ 0.9584084  -0.10097332  0.9936018   0.15328479  0.15609922 -2.4273498\n",
      "  0.9197777  -0.26847973  0.9361505  -0.3337331  -0.34090242 -4.7584677 ]\n",
      "original:  [ 9.420e-01 -2.420e-01  9.180e-01 -3.370e-01  1.302e+00 -4.330e-01\n",
      " -1.335e+00  3.180e-01 -1.302e+00  4.330e-01  4.640e-01  2.000e-03\n",
      " -3.118e+00 -5.387e+00]\n",
      "spoofed:  [ 9.1732371e-01 -3.2317981e-01  9.1799998e-01 -3.3700001e-01\n",
      "  1.2593071e+00 -5.4482907e-01 -1.3350000e+00  3.1799999e-01\n",
      " -1.2593071e+00  5.4482907e-01  4.6399999e-01  2.0000001e-03\n",
      " -3.1180000e+00 -5.3870001e+00]\n",
      "==============================t=  7\n"
     ]
    },
    {
     "name": "stderr",
     "output_type": "stream",
     "text": [
      "100%|███████████████████████████████████████████████████████████████████████████████████| 10/10 [00:02<00:00,  4.90it/s]\n"
     ]
    },
    {
     "name": "stdout",
     "output_type": "stream",
     "text": [
      "[ 0.94528395 -0.15872872  1.0045903   0.10479436  0.10987218 -3.1198933\n",
      "  0.89232814 -0.33230212  0.89966285 -0.4108764  -0.4254622  -5.3887033 ]\n",
      "original:  [ 0.918 -0.307  0.883 -0.409  1.329 -0.554 -1.372  0.436 -1.329  0.554\n",
      "  0.534 -0.047 -3.888 -5.896]\n",
      "spoofed:  [ 0.8877499  -0.38584074  0.883      -0.409       1.2756585  -0.66772187\n",
      " -1.372       0.436      -1.2756585   0.66772187  0.534      -0.047\n",
      " -3.888      -5.896     ]\n",
      "==============================t=  8\n"
     ]
    },
    {
     "name": "stderr",
     "output_type": "stream",
     "text": [
      "100%|███████████████████████████████████████████████████████████████████████████████████| 10/10 [00:02<00:00,  4.76it/s]\n"
     ]
    },
    {
     "name": "stdout",
     "output_type": "stream",
     "text": [
      "[ 0.9255243  -0.22541898  1.0130903   0.04353335  0.05146071 -3.8894827\n",
      "  0.855861   -0.40261468  0.8529171  -0.49274895 -0.51951605 -5.8977594 ]\n",
      "==============================t=  9\n"
     ]
    },
    {
     "name": "stderr",
     "output_type": "stream",
     "text": [
      "100%|███████████████████████████████████████████████████████████████████████████████████| 10/10 [00:02<00:00,  4.90it/s]\n"
     ]
    },
    {
     "name": "stdout",
     "output_type": "stream",
     "text": [
      "[ 0.914155   -0.30383572  1.010656   -0.02753123 -0.02029536 -4.721246\n",
      "  0.83540475 -0.4866961   0.8013567  -0.57824546 -0.6211639  -6.299984  ]\n",
      "==============================t=  10\n"
     ]
    },
    {
     "name": "stderr",
     "output_type": "stream",
     "text": [
      "100%|███████████████████████████████████████████████████████████████████████████████████| 10/10 [00:02<00:00,  5.00it/s]\n"
     ]
    },
    {
     "name": "stdout",
     "output_type": "stream",
     "text": [
      "[ 0.91521126 -0.33604923  1.0022949  -0.11267175 -0.10634433 -5.6046295\n",
      "  0.84158784 -0.48218405  0.73675406 -0.6623707  -0.72880554 -6.6170096 ]\n",
      "==============================t=  11\n"
     ]
    },
    {
     "name": "stderr",
     "output_type": "stream",
     "text": [
      "100%|███████████████████████████████████████████████████████████████████████████████████| 10/10 [00:02<00:00,  4.85it/s]\n"
     ]
    },
    {
     "name": "stdout",
     "output_type": "stream",
     "text": [
      "[ 0.87657666 -0.4252058   0.98483753 -0.2088727  -0.20449747 -6.1737475\n",
      "  0.7883137  -0.5646867   0.6658424  -0.7364929  -0.83258015 -5.835942  ]\n",
      "==============================t=  12\n"
     ]
    },
    {
     "name": "stderr",
     "output_type": "stream",
     "text": [
      "100%|███████████████████████████████████████████████████████████████████████████████████| 10/10 [00:02<00:00,  4.78it/s]\n"
     ]
    },
    {
     "name": "stdout",
     "output_type": "stream",
     "text": [
      "[ 0.8313156  -0.5128593   0.95560807 -0.3120519  -0.31202063 -6.7290297\n",
      "  0.7323743  -0.6397136   0.5974626  -0.79505825 -0.92343783 -5.066981  ]\n",
      "==============================t=  13\n"
     ]
    },
    {
     "name": "stderr",
     "output_type": "stream",
     "text": [
      "100%|███████████████████████████████████████████████████████████████████████████████████| 10/10 [00:02<00:00,  4.77it/s]"
     ]
    },
    {
     "name": "stdout",
     "output_type": "stream",
     "text": [
      "[ 0.7791256  -0.5979803   0.9121895  -0.4196929  -0.4283066  -7.2252855\n",
      "  0.67474216 -0.7075474   0.5339311  -0.84054947 -1.0021378  -4.3770103 ]\n"
     ]
    },
    {
     "name": "stderr",
     "output_type": "stream",
     "text": [
      "\n"
     ]
    }
   ],
   "source": [
    "#Setup of the spoof hypothesis\n",
    "measurements_original = np.asarray(measurements)\n",
    "\n",
    "#Add state variable for the spoof\n",
    "x_k = jnp.array([jnp.real(V1),jnp.imag(V1),jnp.cos(jnp.angle(Eg)),jnp.sin(jnp.angle(Eg)),jnp.angle(Eg),0,jnp.real(V2),jnp.imag(V2),jnp.cos(jnp.angle(Em)),jnp.sin(jnp.angle(Em)),jnp.angle(Em),0,0])\n",
    "\n",
    "X = []\n",
    "tol = 1e-6\n",
    "k = 0\n",
    "x_t_h = x_k\n",
    "residuals = []\n",
    "stds = []\n",
    "d_vectors = []\n",
    "for t,z in enumerate(measurements_original):\n",
    "    \n",
    "    print(\"==============================t= \",t)\n",
    "    for i in tqdm(range(10)):\n",
    "        if(t==6 or t==7 or t==8):########## Insert the spoof\n",
    "            \n",
    "            z = jnp.asarray(h_spoof(z.copy()))\n",
    "        else:\n",
    "            H = p2.measurement_jacobian(x_k)\n",
    "            G = p2.constraint_jacobian(x_k,x_t_h)\n",
    "            d = d_vec(x_k,x_t_h,z)\n",
    "            x_k = update_rule(x_k,H,G,W,P,d)\n",
    "    print(x_k)\n",
    "    #Save residuals and standard deviations\n",
    "    d_vectors.append(d_vec(x_k,x_t_h,z))\n",
    "    stds.append(std(H,G,W,P))\n",
    "    residuals.append(p2.h(x_k)-z)\n",
    "    X.append(x_k)\n",
    "    x_t_h = x_k\n",
    "    "
   ]
  },
  {
   "cell_type": "code",
   "execution_count": 104,
   "id": "875f3870-9ce9-4792-bc41-67fd6cfae1fb",
   "metadata": {},
   "outputs": [
    {
     "name": "stdout",
     "output_type": "stream",
     "text": [
      "Xi Squared Statistic:  8.2687395e-05\n",
      "P-Value:  0.9999586571572631\n",
      "Xi Squared Statistic:  5.3155854e-05\n",
      "P-Value:  0.9999734224259887\n",
      "Xi Squared Statistic:  0.5761747\n",
      "P-Value:  0.7496961122637775\n",
      "Xi Squared Statistic:  0.014985916\n",
      "P-Value:  0.9925350441246991\n",
      "Xi Squared Statistic:  0.022870272\n",
      "P-Value:  0.9886299964675762\n",
      "Xi Squared Statistic:  0.0362768\n",
      "P-Value:  0.9820251113180309\n",
      "Xi Squared Statistic:  868.7142\n",
      "P-Value:  0.0\n",
      "Xi Squared Statistic:  788.3153\n",
      "P-Value:  0.0\n",
      "Xi Squared Statistic:  755.9166\n",
      "P-Value:  0.0\n",
      "Xi Squared Statistic:  83.22736\n",
      "P-Value:  0.0\n",
      "Xi Squared Statistic:  53.9706\n",
      "P-Value:  1.907363156306019e-12\n",
      "Xi Squared Statistic:  32.45402\n",
      "P-Value:  8.968065745573739e-08\n",
      "Xi Squared Statistic:  19.538462\n",
      "P-Value:  5.718431888157571e-05\n",
      "Xi Squared Statistic:  11.394242\n",
      "P-Value:  0.003355611891096566\n"
     ]
    }
   ],
   "source": [
    "from scipy.stats import chi2\n",
    "\n",
    "def goodness_of_fit(xi,df):\n",
    "    return 1 - chi2.cdf(xi,df)\n",
    "\n",
    "xis = []\n",
    "for r in residuals:\n",
    "    xi = W[0,0]*r.T@r\n",
    "    print(\"Xi Squared Statistic: \",xi)\n",
    "    xis.append(xi)\n",
    "    print(\"P-Value: \",goodness_of_fit(xi,2))\n",
    "    "
   ]
  },
  {
   "cell_type": "code",
   "execution_count": 101,
   "id": "613e2b78-c79c-47e9-85e8-847008d7d56b",
   "metadata": {},
   "outputs": [
    {
     "data": {
      "text/plain": [
       "DeviceArray(10000., dtype=float32)"
      ]
     },
     "execution_count": 101,
     "metadata": {},
     "output_type": "execute_result"
    }
   ],
   "source": [
    "W[0,0]"
   ]
  },
  {
   "cell_type": "code",
   "execution_count": null,
   "id": "a3fcae35-93d3-4e8f-b1ae-c9dd255fc1f2",
   "metadata": {},
   "outputs": [],
   "source": []
  }
 ],
 "metadata": {
  "kernelspec": {
   "display_name": "Python 3 (ipykernel)",
   "language": "python",
   "name": "python3"
  },
  "language_info": {
   "codemirror_mode": {
    "name": "ipython",
    "version": 3
   },
   "file_extension": ".py",
   "mimetype": "text/x-python",
   "name": "python",
   "nbconvert_exporter": "python",
   "pygments_lexer": "ipython3",
   "version": "3.8.12"
  }
 },
 "nbformat": 4,
 "nbformat_minor": 5
}
