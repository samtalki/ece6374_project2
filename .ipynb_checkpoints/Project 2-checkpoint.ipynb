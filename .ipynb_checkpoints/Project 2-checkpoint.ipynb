{
 "cells": [
  {
   "cell_type": "code",
   "execution_count": 52,
   "id": "4b316b06",
   "metadata": {},
   "outputs": [],
   "source": [
    "import jax.numpy as jnp\n",
    "import project_2 as p2\n",
    "import seaborn as sns\n",
    "from tqdm import tqdm\n",
    "import imp\n",
    "imp.reload(p2)\n",
    "sns.set(context='paper',style='ticks')"
   ]
  },
  {
   "cell_type": "markdown",
   "id": "fbcac91d",
   "metadata": {},
   "source": [
    "# Problem setup:\n",
    "\n",
    "## States:\n",
    "\n",
    "$$\n",
    "x(t) = \\left[ \n",
    "        \\Re\\{\\bar{V}_1(t)\\},\n",
    "        \\Im\\{\\bar{V}_1(t)\\},\n",
    "        c_g(t),\n",
    "        s_g(t),\n",
    "        \\delta_g(t),\n",
    "        \\omega_g(t),\n",
    "        \\Re\\{\\bar{V}_2(t)\\},\n",
    "        \\Im\\{\\bar{V}_2(t)\\},\n",
    "        c_m(t),\n",
    "        s_m(t),\n",
    "        \\delta_m(t),\n",
    "        \\omega_m(t)\n",
    "    \\right]^T\n",
    "$$\n",
    "\n",
    "## System Parameters and Initial Conditions:"
   ]
  },
  {
   "cell_type": "code",
   "execution_count": 74,
   "id": "c6b53be3",
   "metadata": {},
   "outputs": [],
   "source": [
    "#Initial conditions\n",
    "Ig = 0.75 * jnp.exp(jnp.deg2rad(180)*1j)\n",
    "Eg = 1.0315 * jnp.exp(jnp.deg2rad(14.2)*1j)\n",
    "Im = 0.75 #* np.exp(0*1j)\n",
    "Em = 1/(p2.bm*-1j)*(-1*Im) +1\n",
    "Pgm = 0.75\n",
    "Pmm = 0.75\n",
    "V1 = 1/(p2.b*-1j)*Im + 1\n",
    "V2 = 1.0*jnp.exp(0*1j)\n",
    "\n",
    "#Parameters that were not stated anywhere in the project.\n",
    "omega0 = 2*jnp.pi*60\n"
   ]
  },
  {
   "cell_type": "code",
   "execution_count": null,
   "id": "9883baa4",
   "metadata": {},
   "outputs": [],
   "source": []
  },
  {
   "cell_type": "code",
   "execution_count": null,
   "id": "18eadac7",
   "metadata": {},
   "outputs": [],
   "source": []
  },
  {
   "cell_type": "markdown",
   "id": "c9eac89c",
   "metadata": {},
   "source": [
    "## Measurements "
   ]
  },
  {
   "cell_type": "code",
   "execution_count": 155,
   "id": "5f6cdf6c",
   "metadata": {},
   "outputs": [],
   "source": [
    "measurements  = jnp.array([[1.000, 0.100, 1.000, 0.000, 0.750, 0.000, -0.750, 0.000,-0.750, 0.000, 0.750, 0.000, 0.000, 0.000],\n",
    "                          [1.000, 0.100, 1.000, 0.000, 0.750, 0.000, -0.750, 0.000, -0.750, 0.000, 0.750, 0.000, 0.000, 0.000,],\n",
    "                          [0.993, 0.030, 0.987, -0.114, 1.079, -0.041, -1.079, 0.041, -1.079, 0.041, 0.141, 0.068, -0.392, -1.092],\n",
    "                          [0.991, 0.013, 0.983, -0.135, 1.111, -0.060, -1.111, 0.060, -1.111, 0.060, 0.177, 0.068, -0.811, -2.146],\n",
    "                          [0.988, -0.014, 0.975, -0.169, 1.160, -0.095, -1.160, 0.095,-1.160, 0.095, 0.233, 0.065, -1.278, -3.125],\n",
    "                          [0.982, -0.052, 0.963, -0.215, 1.219, -0.148, -1.219, 0.148,-1.219, 0.148, 0.305, 0.056, -1.813, -4.001],\n",
    "                          [0.974, -0.101, 0.944, -0.271, 1.281, -0.222, -1.281, 0.222, -1.281, 0.222, 0.384, 0.036, -2.425, -4.757],\n",
    "                          [0.960, -0.159, 0.918, -0.337, 1.335, -0.318, -1.335, 0.318, -1.335, 0.318, 0.464, 0.002, -3.118, -5.387],\n",
    "                          [0.941, -0.226, 0.883, -0.409, 1.372, -0.436, -1.372, 0.436, -1.372, 0.436, 0.534, -0.047, -3.888, -5.896],\n",
    "                          [0.915, -0.302, 0.838, -0.487, 1.382, -0.572, -1.382, 0.572, -1.382, 0.572, 0.586, -0.110, -4.723, -6.300],\n",
    "                          [0.916, -0.334, 0.844, -0.482, 1.106, -0.538, -1.106, 0.538, -1.106, 0.538, 1.106, -0.538, -5.609, -6.622],\n",
    "                          [0.877, -0.424, 0.790, -0.565, 1.055, -0.652, -1.055, 0.652, -1.055, 0.652, 1.055, -0.652, -6.175, -5.836],\n",
    "                          [0.832, -0.512, 0.734, -0.640, 0.959, -0.735, -0.959, 0.735, -0.959, 0.735, 0.959, -0.735, -6.730, -5.067],\n",
    "                          [0.780, -0.597, 0.676, -0.707, 0.828, -0.778, -0.828, 0.778, -0.828, 0.778, 0.828, -0.778, -7.226, -4.377]\n",
    "                         ])"
   ]
  },
  {
   "cell_type": "code",
   "execution_count": 156,
   "id": "afc9cb1f",
   "metadata": {},
   "outputs": [],
   "source": [
    "P = 10e6*jnp.eye(8)\n",
    "W = (1/(0.01**2))*jnp.eye(measurements.shape[1])"
   ]
  },
  {
   "cell_type": "markdown",
   "id": "d420f349",
   "metadata": {},
   "source": [
    "## Dynamic State Estimation"
   ]
  },
  {
   "cell_type": "code",
   "execution_count": 157,
   "id": "929ec10c",
   "metadata": {},
   "outputs": [
    {
     "name": "stdout",
     "output_type": "stream",
     "text": [
      "[ 1.          0.1         0.96944535  0.2453074   0.24783677  0.\n",
      "  1.          0.          0.99174285 -0.12824261 -0.12859675  0.        ]\n"
     ]
    }
   ],
   "source": [
    "x_k = jnp.array([jnp.real(V1),jnp.imag(V1),jnp.cos(jnp.angle(Eg)),jnp.sin(jnp.angle(Eg)),jnp.angle(Eg),0,jnp.real(V2),jnp.imag(V2),jnp.cos(jnp.angle(Em)),jnp.sin(jnp.angle(Em)),jnp.angle(Em),0])\n",
    "print(x_k)"
   ]
  },
  {
   "cell_type": "code",
   "execution_count": null,
   "id": "de3cd853",
   "metadata": {},
   "outputs": [],
   "source": []
  },
  {
   "cell_type": "code",
   "execution_count": 158,
   "id": "a46e0b16",
   "metadata": {},
   "outputs": [],
   "source": [
    "X = []\n",
    "tol = 1e-6\n",
    "k = 0\n",
    "x_t_h = x_k"
   ]
  },
  {
   "cell_type": "code",
   "execution_count": 159,
   "id": "a6ba7e59",
   "metadata": {},
   "outputs": [
    {
     "name": "stdout",
     "output_type": "stream",
     "text": [
      "[-2.0358711e-06  0.0000000e+00  0.0000000e+00  0.0000000e+00\n",
      " -9.3132257e-10  0.0000000e+00  0.0000000e+00  0.0000000e+00]\n"
     ]
    }
   ],
   "source": [
    "print(p2.g_cons(x_k,x_t_h))"
   ]
  },
  {
   "cell_type": "code",
   "execution_count": 160,
   "id": "93485584",
   "metadata": {},
   "outputs": [
    {
     "data": {
      "text/plain": [
       "DeviceArray(1.0083259, dtype=float32, weak_type=True)"
      ]
     },
     "execution_count": 160,
     "metadata": {},
     "output_type": "execute_result"
    }
   ],
   "source": [
    "jnp.abs(p2.Em)"
   ]
  },
  {
   "cell_type": "code",
   "execution_count": 161,
   "id": "eac4642d",
   "metadata": {},
   "outputs": [
    {
     "name": "stdout",
     "output_type": "stream",
     "text": [
      "[-2.0358711e-06  0.0000000e+00  0.0000000e+00  0.0000000e+00\n",
      " -9.3132257e-10  0.0000000e+00  0.0000000e+00  0.0000000e+00]\n"
     ]
    }
   ],
   "source": [
    "g = p2.g_cons(x_k,x_t_h)\n",
    "print(g)"
   ]
  },
  {
   "cell_type": "code",
   "execution_count": 162,
   "id": "b29ee091",
   "metadata": {},
   "outputs": [
    {
     "data": {
      "text/plain": [
       "DeviceArray([ 1.        ,  0.1       ,  0.96944535,  0.2453074 ,\n",
       "              0.24783677,  0.        ,  1.        ,  0.        ,\n",
       "              0.99174285, -0.12824261, -0.12859675,  0.        ],            dtype=float32)"
      ]
     },
     "execution_count": 162,
     "metadata": {},
     "output_type": "execute_result"
    }
   ],
   "source": [
    "x_k"
   ]
  },
  {
   "cell_type": "code",
   "execution_count": null,
   "id": "9624d7c3",
   "metadata": {},
   "outputs": [],
   "source": []
  },
  {
   "cell_type": "code",
   "execution_count": 163,
   "id": "8176f8cc",
   "metadata": {},
   "outputs": [],
   "source": [
    "def d_vec(x_k,x_t_h,z):\n",
    "    h_x = p2.h(x_k)-z\n",
    "    g_x_k = p2.g_cons(x_k,x_t_h)\n",
    "    d = jnp.concatenate([h_x,g_x_k])\n",
    "    return d\n",
    "\n",
    "def update_rule(x_k,H,G,W,P,d):\n",
    "    left = jnp.linalg.inv(jnp.vstack([H,G]).T @ jnp.block([[W,jnp.zeros((14,8))],[jnp.zeros((8,14)),P]])@jnp.vstack([H,G]))\n",
    "    right = (jnp.vstack([H,G]).T@jnp.block([[W,jnp.zeros((14,8))],[jnp.zeros((8,14)),P]]))@d\n",
    "    x_k_1 = x_k - left @ right\n",
    "    #x_k_1 = x_k - jnp.linalg.inv(H.T@W@H + G.T@P@G)@(jnp.hstack([H.T@W,G.T@P]))@d\n",
    "    return x_k_1\n"
   ]
  },
  {
   "cell_type": "code",
   "execution_count": 164,
   "id": "ec562cfd",
   "metadata": {},
   "outputs": [
    {
     "name": "stderr",
     "output_type": "stream",
     "text": [
      "  0%|          | 0/10 [00:00<?, ?it/s]"
     ]
    },
    {
     "name": "stdout",
     "output_type": "stream",
     "text": [
      "==============================t=  0\n"
     ]
    },
    {
     "name": "stderr",
     "output_type": "stream",
     "text": [
      "100%|██████████| 10/10 [00:02<00:00,  4.01it/s]\n",
      "  0%|          | 0/10 [00:00<?, ?it/s]"
     ]
    },
    {
     "name": "stdout",
     "output_type": "stream",
     "text": [
      "[ 9.9999231e-01  9.9986903e-02  9.6944553e-01  2.4530794e-01\n",
      "  2.4783693e-01  1.9757857e-05  9.9999410e-01 -9.9646168e-06\n",
      "  9.9174267e-01 -1.2824301e-01 -1.2859681e-01 -7.1563450e-06]\n",
      "==============================t=  1\n"
     ]
    },
    {
     "name": "stderr",
     "output_type": "stream",
     "text": [
      "100%|██████████| 10/10 [00:02<00:00,  4.22it/s]\n",
      "  0%|          | 0/10 [00:00<?, ?it/s]"
     ]
    },
    {
     "name": "stdout",
     "output_type": "stream",
     "text": [
      "[ 9.9999231e-01  9.9987462e-02  9.6944565e-01  2.4530861e-01\n",
      "  2.4783725e-01  1.7214676e-05  9.9999410e-01 -9.4963370e-06\n",
      "  9.9174243e-01 -1.2824351e-01 -1.2859698e-01 -1.1627775e-05]\n",
      "==============================t=  2\n"
     ]
    },
    {
     "name": "stderr",
     "output_type": "stream",
     "text": [
      "100%|██████████| 10/10 [00:02<00:00,  4.32it/s]\n",
      "  0%|          | 0/10 [00:00<?, ?it/s]"
     ]
    },
    {
     "name": "stdout",
     "output_type": "stream",
     "text": [
      "[ 0.9924401   0.02509517  0.97018456  0.24232101  0.24478956 -0.36573946\n",
      "  0.98679966 -0.1190827   0.99057966 -0.1368582  -0.13732922 -1.0478578 ]\n",
      "==============================t=  3\n"
     ]
    },
    {
     "name": "stderr",
     "output_type": "stream",
     "text": [
      "100%|██████████| 10/10 [00:02<00:00,  4.04it/s]\n",
      "  0%|          | 0/10 [00:00<?, ?it/s]"
     ]
    },
    {
     "name": "stdout",
     "output_type": "stream",
     "text": [
      "[ 0.9909758   0.01355491  0.97250694  0.23281603  0.23499699 -0.80936825\n",
      "  0.98298216 -0.13450064  0.986548   -0.16316095 -0.16393293 -2.144587  ]\n",
      "==============================t=  4\n"
     ]
    },
    {
     "name": "stderr",
     "output_type": "stream",
     "text": [
      "100%|██████████| 10/10 [00:02<00:00,  3.88it/s]\n",
      "  0%|          | 0/10 [00:00<?, ?it/s]"
     ]
    },
    {
     "name": "stdout",
     "output_type": "stream",
     "text": [
      "[ 0.9878794  -0.01363195  0.9764006   0.21587582  0.217604   -1.2777901\n",
      "  0.9752344  -0.16820079  0.9783744  -0.20630571 -0.20784707 -3.125109  ]\n",
      "==============================t=  5\n"
     ]
    },
    {
     "name": "stderr",
     "output_type": "stream",
     "text": [
      "100%|██████████| 10/10 [00:02<00:00,  4.17it/s]\n",
      "  0%|          | 0/10 [00:00<?, ?it/s]"
     ]
    },
    {
     "name": "stdout",
     "output_type": "stream",
     "text": [
      "[ 0.9823981  -0.05159687  0.9816181   0.1906738   0.19185168 -1.8124887\n",
      "  0.96267945 -0.21400908  0.9643387  -0.2639891  -0.26723382 -4.0013    ]\n",
      "==============================t=  6\n"
     ]
    },
    {
     "name": "stderr",
     "output_type": "stream",
     "text": [
      "100%|██████████| 10/10 [00:02<00:00,  4.19it/s]\n",
      "  0%|          | 0/10 [00:00<?, ?it/s]"
     ]
    },
    {
     "name": "stdout",
     "output_type": "stream",
     "text": [
      "[ 0.9736307  -0.09998571  0.9877097   0.15592088  0.15654543 -2.4242601\n",
      "  0.94404894 -0.2706296   0.94245636 -0.33357248 -0.34022355 -4.757468  ]\n",
      "==============================t=  7\n"
     ]
    },
    {
     "name": "stderr",
     "output_type": "stream",
     "text": [
      "100%|██████████| 10/10 [00:02<00:00,  3.97it/s]\n",
      "  0%|          | 0/10 [00:00<?, ?it/s]"
     ]
    },
    {
     "name": "stdout",
     "output_type": "stream",
     "text": [
      "[ 0.9603852  -0.15809885  0.99381363  0.11018548  0.11036914 -3.1168945\n",
      "  0.9180204  -0.33591637  0.9108724  -0.41190937 -0.42476615 -5.387643  ]\n",
      "==============================t=  8\n"
     ]
    },
    {
     "name": "stderr",
     "output_type": "stream",
     "text": [
      "100%|██████████| 10/10 [00:02<00:00,  4.00it/s]\n",
      "  0%|          | 0/10 [00:00<?, ?it/s]"
     ]
    },
    {
     "name": "stdout",
     "output_type": "stream",
     "text": [
      "[ 0.94131625 -0.22551773  0.9984949   0.0520673   0.05200795 -3.8864467\n",
      "  0.8832573  -0.40824306  0.8681385  -0.4955505  -0.5188034  -5.8968267 ]\n",
      "==============================t=  9\n"
     ]
    },
    {
     "name": "stderr",
     "output_type": "stream",
     "text": [
      "100%|██████████| 10/10 [00:02<00:00,  3.96it/s]\n",
      "  0%|          | 0/10 [00:00<?, ?it/s]"
     ]
    },
    {
     "name": "stdout",
     "output_type": "stream",
     "text": [
      "[ 0.9148999  -0.30143437  0.9995915  -0.01957173 -0.01972309 -4.7212787\n",
      "  0.83875084 -0.48548362  0.8133627  -0.58100796 -0.6204522  -6.3010316 ]\n",
      "==============================t=  10\n"
     ]
    },
    {
     "name": "stderr",
     "output_type": "stream",
     "text": [
      "100%|██████████| 10/10 [00:02<00:00,  4.12it/s]\n",
      "  0%|          | 0/10 [00:00<?, ?it/s]"
     ]
    },
    {
     "name": "stdout",
     "output_type": "stream",
     "text": [
      "[ 0.9142993  -0.33711663  0.9941263  -0.10516617 -0.10559543 -5.583401\n",
      "  0.8423189  -0.4845155   0.7464651  -0.66469485 -0.7277992  -6.580605  ]\n",
      "==============================t=  11\n"
     ]
    },
    {
     "name": "stderr",
     "output_type": "stream",
     "text": [
      "100%|██████████| 10/10 [00:02<00:00,  4.06it/s]\n",
      "  0%|          | 0/10 [00:00<?, ?it/s]"
     ]
    },
    {
     "name": "stdout",
     "output_type": "stream",
     "text": [
      "[ 0.87782615 -0.422894    0.97904307 -0.20176822 -0.20354907 -6.1710343\n",
      "  0.79113233 -0.5633331   0.67392725 -0.7382867  -0.83127475 -5.836464  ]\n",
      "==============================t=  12\n"
     ]
    },
    {
     "name": "stderr",
     "output_type": "stream",
     "text": [
      "100%|██████████| 10/10 [00:02<00:00,  4.22it/s]\n",
      "  0%|          | 0/10 [00:00<?, ?it/s]"
     ]
    },
    {
     "name": "stdout",
     "output_type": "stream",
     "text": [
      "[ 0.8328995  -0.51047426  0.9517331  -0.30549592 -0.31103545 -6.7273316\n",
      "  0.7351796  -0.6381841   0.6042219  -0.79646015 -0.9221519  -5.0687947 ]\n",
      "==============================t=  13\n"
     ]
    },
    {
     "name": "stderr",
     "output_type": "stream",
     "text": [
      "100%|██████████| 10/10 [00:02<00:00,  4.01it/s]"
     ]
    },
    {
     "name": "stdout",
     "output_type": "stream",
     "text": [
      "[ 0.78099406 -0.59563833  0.9098865  -0.4136748  -0.4272954  -7.2238584\n",
      "  0.6775513  -0.70596474  0.5397515  -0.8415659  -1.0008816  -4.3787637 ]\n"
     ]
    },
    {
     "name": "stderr",
     "output_type": "stream",
     "text": [
      "\n"
     ]
    }
   ],
   "source": [
    "residuals = []\n",
    "stds = []\n",
    "for t,z in enumerate(measurements):\n",
    "    print(\"==============================t= \",t)\n",
    "    for i in tqdm(range(10)):\n",
    "        H = p2.measurement_jacobian(x_k)\n",
    "        G = p2.constraint_jacobian(x_k,x_t_h)\n",
    "        d = d_vec(x_k,x_t_h,z)\n",
    "        x_k = update_rule(x_k,H,G,W,P,d)\n",
    "    print(x_k)\n",
    "    #Save residuals and standard deviations\n",
    "    stds.append(std(H,G,W,P))\n",
    "    residuals.append(p2.h(x_k)-z)\n",
    "    X.append(x_k)\n",
    "    x_t_h = x_k"
   ]
  },
  {
   "cell_type": "code",
   "execution_count": 165,
   "id": "d3c2472b",
   "metadata": {},
   "outputs": [
    {
     "data": {
      "text/plain": [
       "DeviceArray([ 9.9408627e-04,  1.3616681e-03,  1.5513301e-03,\n",
       "              1.0352731e-03, -5.5193901e-04,  2.1795034e-03,\n",
       "              5.5193901e-04, -2.1795034e-03,  2.2929907e-04,\n",
       "             -5.9860945e-03, -8.7368488e-04,  4.8260689e-03,\n",
       "              2.1414757e-03, -1.7638206e-03, -1.4885515e-04,\n",
       "             -1.1175871e-08,  3.3332966e-05,  8.1285834e-06,\n",
       "              1.5523285e-04,  2.6077032e-08, -3.2961369e-05,\n",
       "             -1.1648983e-05], dtype=float32)"
      ]
     },
     "execution_count": 165,
     "metadata": {},
     "output_type": "execute_result"
    }
   ],
   "source": [
    "d"
   ]
  },
  {
   "cell_type": "code",
   "execution_count": 166,
   "id": "86803068",
   "metadata": {},
   "outputs": [
    {
     "data": {
      "text/plain": [
       "<matplotlib.legend.Legend at 0x7fdb65859100>"
      ]
     },
     "execution_count": 166,
     "metadata": {},
     "output_type": "execute_result"
    },
    {
     "data": {
      "image/png": "[encoded data removed]",
      "text/plain": [
       "<Figure size 432x288 with 1 Axes>"
      ]
     },
     "metadata": {},
     "output_type": "display_data"
    }
   ],
   "source": [
    "import matplotlib.pyplot as plt\n",
    "X = jnp.asarray(X)\n",
    "names = ['$v_{1,r}$','$v_{1,i}$','$v_{2,r}$','$v_{2,i}$','$i_{1,r}$','$i_{1,i}$','$i_{2,r}$','$i_{2,i}$','$i_{gr}$','$i_{gi}$','$i_{mr}$','$i_{mi}$','$\\omega_g$','$\\omega_m$']\n",
    "for i in range(12):\n",
    "    name = names[i]\n",
    "    plt.plot(X[:,i],label=name)\n",
    "plt.legend()"
   ]
  },
  {
   "cell_type": "code",
   "execution_count": 188,
   "id": "4887d578",
   "metadata": {},
   "outputs": [
    {
     "data": {
      "image/png": "[encoded data removed]",
      "text/plain": [
       "<Figure size 504x311.442 with 6 Axes>"
      ]
     },
     "metadata": {},
     "output_type": "display_data"
    }
   ],
   "source": [
    "figscale = 2\n",
    "fig,axes = plt.subplots(nrows=2,ncols=3,figsize=(figscale*3.5,figscale*3.5/1.61828),constrained_layout=True,sharex=True)\n",
    "axes[1,0].set_xlabel(\"time t (t/60)s\")\n",
    "axes[1,1].set_xlabel(\"time t (t/60)s\")\n",
    "axes[1,2].set_xlabel(\"time t (t/60)s\")\n",
    "\n",
    "\n",
    "#Generator and motor speed\n",
    "axes[0,0].plot([p2.omegag(x) for x in X],label=\"$\\omega_g$\")\n",
    "axes[0,0].plot([p2.omegam(x) for x in X],label=\"$\\omega_m$\")\n",
    "axes[0,0].legend()\n",
    "axes[0,0].set_title(\"Angular Velocities\")\n",
    "axes[0,0].set_ylabel(\"rad/s\")\n",
    "axes[0,0].grid()\n",
    "\n",
    "#Deltas\n",
    "axes[0,1].plot([p2.deltag(x) for x in X],label=\"$\\delta_g$\")\n",
    "axes[0,1].plot([p2.deltam(x) for x in X],label=\"$\\delta_m$\")\n",
    "axes[0,1].legend()\n",
    "axes[0,1].set_title(\"Rotor Angles\")\n",
    "axes[0,1].set_ylabel(\"Radians\")\n",
    "axes[0,1].grid()\n",
    "\n",
    "#Voltages\n",
    "axes[0,2].plot([p2.v1r(x) for x in X],label=\"$V_{1,r}$\")\n",
    "axes[0,2].plot([p2.v2r(x) for x in X],label=\"$V_{2,r}$\")\n",
    "axes[0,2].plot([p2.v1i(x) for x in X],label=\"$V_{1,i}$\")\n",
    "axes[0,2].plot([p2.v2i(x) for x in X],label=\"$V_{2,i}$\")\n",
    "axes[0,2].legend()\n",
    "axes[0,2].set_title(\"Real/Imag Part of Voltages\")\n",
    "axes[0,2].set_ylabel(\"Volts\")\n",
    "axes[0,2].grid()\n",
    "\n",
    "#Voltage mags\n",
    "axes[1,0].plot([jnp.abs(p2.v1r(x) + p2.v1i(x)*1j) for x in X],label=r\"$|\\tilde{V}_1|$\")\n",
    "axes[1,0].plot([jnp.abs(p2.v2r(x) + p2.v2i(x)*1j) for x in X],label=r\"$|\\tilde{V}_{2}|$\")\n",
    "axes[1,0].set_ylabel(\"V RMS\")\n",
    "axes[1,0].set_title(\"Line Voltage Mags.\")\n",
    "axes[1,0].set_ylim(0.5,1.1)\n",
    "axes[1,0].legend()\n",
    "axes[1,0].grid()\n",
    "\n",
    "#Voltage angles\n",
    "axes[1,1].plot([jnp.angle(p2.v1r(x) + p2.v1i(x)*1j) for x in X],label=r\"$\\angle\\tilde{V}_1$\")\n",
    "axes[1,1].plot([jnp.angle(p2.v2r(x) + p2.v2i(x)*1j)for x in X],label=r\"$\\angle\\tilde{V}_{2}$\")\n",
    "axes[1,1].set_ylabel(\"Radians\")\n",
    "axes[1,1].legend()\n",
    "axes[1,1].grid()\n",
    "axes[1,1].set_title(\"Line Voltage Angles\")\n",
    "\n",
    "\n",
    "#Voltage angles\n",
    "axes[1,2].grid()\n",
    "axes[1,2].plot([p2.cg(x) for x in X],label=r'$c_g$')\n",
    "axes[1,2].plot([p2.cm(x) for x in X],label=r'$c_m$')\n",
    "axes[1,2].plot([p2.sg(x) for x in X],'--',label=r'$s_g$')\n",
    "axes[1,2].plot([p2.sm(x) for x in X],'--',label=r'$s_m$')\n",
    "axes[1,2].set_title(\"Trig. Relationships\")\n",
    "axes[1,2].legend()\n",
    "\n",
    "\n",
    "#save\n",
    "plt.savefig(\"Figures/results.png\",dpi=400)"
   ]
  },
  {
   "cell_type": "code",
   "execution_count": 168,
   "id": "6b2564a0",
   "metadata": {},
   "outputs": [],
   "source": [
    "import pandas as pd\n",
    "import numpy as np\n",
    "\n",
    "STDS = np.asarray(stds)\n",
    "\n",
    "df = pd.DataFrame()\n",
    "names = ['$v_{1,r}$','$v_{1,i}$','$c_g$','$s_g$','$\\delta_g$','$\\omega_g$','$v_{2,r}$','$v_{2,i}$','$c_{m}$','$s_m$','$\\delta_m$','$\\omega_m$']\n",
    "stds_list = []\n",
    "labels = []\n",
    "for j,s_j in enumerate(STDS.T):\n",
    "    labels.append([names[j] for i in range(len(s_j))])\n",
    "    stds_list.append(s_j)\n",
    "\n",
    "df['Standard Deviation'] = np.asarray(stds).flatten()\n",
    "df['names'] = np.asarray(labels).flatten()"
   ]
  },
  {
   "cell_type": "code",
   "execution_count": 192,
   "id": "66c750d5",
   "metadata": {},
   "outputs": [
    {
     "data": {
      "image/png": "[encoded data removed]",
      "text/plain": [
       "<Figure size 504x311.442 with 1 Axes>"
      ]
     },
     "metadata": {},
     "output_type": "display_data"
    }
   ],
   "source": [
    "fig,ax = plt.subplots(figsize=(2*3.5,2*3.5/1.61828))\n",
    "plt.grid()\n",
    "sns.boxplot(data=df,x='names',y='Standard Deviation',hue='names')\n",
    "plt.legend(frameon=False)\n",
    "plt.savefig(\"Figures/std.png\",dpi=400)\n"
   ]
  },
  {
   "cell_type": "code",
   "execution_count": 193,
   "id": "d6503f9e",
   "metadata": {},
   "outputs": [],
   "source": [
    "from scipy.stats import chi2\n",
    "def goodness_of_fit(J,df):\n",
    "    return 1 - chi2.cdf(J,df)"
   ]
  },
  {
   "cell_type": "code",
   "execution_count": null,
   "id": "a01aa86a",
   "metadata": {},
   "outputs": [],
   "source": []
  },
  {
   "cell_type": "code",
   "execution_count": null,
   "id": "272143b0",
   "metadata": {},
   "outputs": [],
   "source": [
    "sns.violinplot(data=df,x='')"
   ]
  },
  {
   "cell_type": "code",
   "execution_count": 104,
   "id": "2187c5c0",
   "metadata": {},
   "outputs": [],
   "source": [
    "def std(H,G,W,P):\n",
    "    left = jnp.linalg.inv(jnp.vstack([H,G]).T @ jnp.block([[W,jnp.zeros((14,8))],[jnp.zeros((8,14)),P]])@jnp.vstack([H,G]))\n",
    "    stds = []\n",
    "    for i,s_i in enumerate(left):\n",
    "        stds.append(jnp.sqrt(s_i[i]))\n",
    "    return stds"
   ]
  },
  {
   "cell_type": "code",
   "execution_count": 72,
   "id": "e6410b33",
   "metadata": {},
   "outputs": [
    {
     "data": {
      "text/plain": [
       "[DeviceArray(nan, dtype=float32),\n",
       " DeviceArray(nan, dtype=float32),\n",
       " DeviceArray(nan, dtype=float32),\n",
       " DeviceArray(nan, dtype=float32),\n",
       " DeviceArray(nan, dtype=float32),\n",
       " DeviceArray(nan, dtype=float32),\n",
       " DeviceArray(nan, dtype=float32),\n",
       " DeviceArray(nan, dtype=float32),\n",
       " DeviceArray(nan, dtype=float32),\n",
       " DeviceArray(nan, dtype=float32),\n",
       " DeviceArray(inf, dtype=float32),\n",
       " DeviceArray(0.01, dtype=float32)]"
      ]
     },
     "execution_count": 72,
     "metadata": {},
     "output_type": "execute_result"
    }
   ],
   "source": [
    "info_matrix = jnp.linalg.inv(H.T @ W @ H)\n",
    "stds = []\n",
    "for i,s_i in enumerate(info_matrix):\n",
    "    stds.append(jnp.sqrt(s_i[i]))\n",
    "stds"
   ]
  },
  {
   "cell_type": "code",
   "execution_count": null,
   "id": "f787bc91",
   "metadata": {},
   "outputs": [],
   "source": []
  }
 ],
 "metadata": {
  "kernelspec": {
   "display_name": "Python 3",
   "language": "python",
   "name": "python3"
  },
  "language_info": {
   "codemirror_mode": {
    "name": "ipython",
    "version": 3
   },
   "file_extension": ".py",
   "mimetype": "text/x-python",
   "name": "python",
   "nbconvert_exporter": "python",
   "pygments_lexer": "ipython3",
   "version": "3.8.10"
  }
 },
 "nbformat": 4,
 "nbformat_minor": 5
}
