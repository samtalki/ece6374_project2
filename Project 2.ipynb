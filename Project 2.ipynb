{
 "cells": [
  {
   "cell_type": "code",
   "execution_count": 27,
   "id": "daf55155",
   "metadata": {},
   "outputs": [],
   "source": [
    "import jax.numpy as jnp\n",
    "import project_2 as p2\n",
    "import seaborn as sns\n",
    "from tqdm import tqdm\n",
    "import imp\n",
    "imp.reload(p2)\n",
    "sns.set(context='talk',style='darkgrid')"
   ]
  },
  {
   "cell_type": "markdown",
   "id": "1478a343",
   "metadata": {},
   "source": [
    "# Problem setup:\n",
    "\n",
    "## States:\n",
    "\n",
    "$$\n",
    "x(t) = \\left[ \n",
    "        \\Re\\{\\bar{V}_1(t)\\},\n",
    "        \\Im\\{\\bar{V}_1(t)\\},\n",
    "        c_g(t),\n",
    "        s_g(t),\n",
    "        \\delta_g(t),\n",
    "        \\omega_g(t),\n",
    "        \\Re\\{\\bar{V}_2(t)\\},\n",
    "        \\Im\\{\\bar{V}_2(t)\\},\n",
    "        c_m(t),\n",
    "        s_m(t),\n",
    "        \\delta_m(t),\n",
    "        \\omega_m(t)\n",
    "    \\right]^T\n",
    "$$\n",
    "\n",
    "## System Parameters and Initial Conditions:"
   ]
  },
  {
   "cell_type": "code",
   "execution_count": 4,
   "id": "7ee94c13",
   "metadata": {},
   "outputs": [],
   "source": [
    "#Initial conditions\n",
    "Ig = 0.75 * jnp.exp(jnp.deg2rad(180)*1j)\n",
    "Eg = 1.0315 * jnp.exp(jnp.deg2rad(14.2)*1j)\n",
    "Im = 0.75 #* np.exp(0*1j)\n",
    "Em = 1/(p2.bm*-1j)*(-1*Im) +1\n",
    "Pgm = 0.75\n",
    "Pmm = 0.75\n",
    "V1 = 1/(p2.b*-1j)*Im + 1\n",
    "V2 = 1.0*jnp.exp(0*1j)\n",
    "\n",
    "#Parameters that were not stated anywhere in the project.\n",
    "omega0 = 2*jnp.pi*60\n"
   ]
  },
  {
   "cell_type": "code",
   "execution_count": null,
   "id": "ba941c43-9f7a-4fd4-8cfa-58187953bf3e",
   "metadata": {},
   "outputs": [],
   "source": []
  },
  {
   "cell_type": "code",
   "execution_count": null,
   "id": "445c308e",
   "metadata": {},
   "outputs": [],
   "source": []
  },
  {
   "cell_type": "markdown",
   "id": "03fc00d0",
   "metadata": {},
   "source": [
    "## Measurements "
   ]
  },
  {
   "cell_type": "code",
   "execution_count": 5,
   "id": "9ae928a9",
   "metadata": {},
   "outputs": [],
   "source": [
    "measurements  = jnp.array([[1.000, 0.100, 1.000, 0.000, 0.750, 0.000, -0.750, 0.000,-0.750, 0.000, 0.750, 0.000, 0.000, 0.000],\n",
    "                          [1.000, 0.100, 1.000, 0.000, 0.750, 0.000, -0.750, 0.000, -0.750, 0.000, 0.750, 0.000, 0.000, 0.000,],\n",
    "                          [0.993, 0.030, 0.987, -0.114, 1.079, -0.041, -1.079, 0.041, -1.079, 0.041, 0.141, 0.068, -0.392, -1.092],\n",
    "                          [0.991, 0.013, 0.983, -0.135, 1.111, -0.060, -1.111, 0.060, -1.111, 0.060, 0.177, 0.068, -0.811, -2.146],\n",
    "                          [0.988, -0.014, 0.975, -0.169, 1.160, -0.095, -1.160, 0.095,-1.160, 0.095, 0.233, 0.065, -1.278, -3.125],\n",
    "                          [0.982, -0.052, 0.963, -0.215, 1.219, -0.148, -1.219, 0.148,-1.219, 0.148, 0.305, 0.056, -1.813, -4.001],\n",
    "                          [0.974, -0.101, 0.944, -0.271, 1.281, -0.222, -1.281, 0.222, -1.281, 0.222, 0.384, 0.036, -2.425, -4.757],\n",
    "                          [0.960, -0.159, 0.918, -0.337, 1.335, -0.318, -1.335, 0.318, -1.335, 0.318, 0.464, 0.002, -3.118, -5.387],\n",
    "                          [0.941, -0.226, 0.883, -0.409, 1.372, -0.436, -1.372, 0.436, -1.372, 0.436, 0.534, -0.047, -3.888, -5.896],\n",
    "                          [0.915, -0.302, 0.838, -0.487, 1.382, -0.572, -1.382, 0.572, -1.382, 0.572, 0.586, -0.110, -4.723, -6.300],\n",
    "                          [0.916, -0.334, 0.844, -0.482, 1.106, -0.538, -1.106, 0.538, -1.106, 0.538, 1.106, -0.538, -5.609, -6.622],\n",
    "                          [0.877, -0.424, 0.790, -0.565, 1.055, -0.652, -1.055, 0.652, -1.055, 0.652, 1.055, -0.652, -6.175, -5.836],\n",
    "                          [0.832, -0.512, 0.734, -0.640, 0.959, -0.735, -0.959, 0.735, -0.959, 0.735, 0.959, -0.735, -6.730, -5.067],\n",
    "                          [0.780, -0.597, 0.676, -0.707, 0.828, -0.778, -0.828, 0.778, -0.828, 0.778, 0.828, -0.778, -7.226, -4.377]\n",
    "                         ])"
   ]
  },
  {
   "cell_type": "code",
   "execution_count": 6,
   "id": "baa483a1",
   "metadata": {},
   "outputs": [],
   "source": [
    "P = 1e6*jnp.eye(8)\n",
    "W = (1/(0.01**2))*jnp.eye(measurements.shape[1])"
   ]
  },
  {
   "cell_type": "markdown",
   "id": "c3dbd618",
   "metadata": {},
   "source": [
    "## Dynamic State Estimation"
   ]
  },
  {
   "cell_type": "code",
   "execution_count": 10,
   "id": "b7bbcd2d-5ae1-4cea-9f2a-50e1fb70f8db",
   "metadata": {},
   "outputs": [
    {
     "name": "stdout",
     "output_type": "stream",
     "text": [
      "[ 1.          0.1         0.96944535  0.2453074   0.24783677  0.\n",
      "  1.          0.          0.99174285 -0.12824261 -0.12859675  0.        ]\n"
     ]
    }
   ],
   "source": [
    "x_k = jnp.array([jnp.real(V1),jnp.imag(V1),jnp.cos(jnp.angle(Eg)),jnp.sin(jnp.angle(Eg)),jnp.angle(Eg),0,jnp.real(V2),jnp.imag(V2),jnp.cos(jnp.angle(Em)),jnp.sin(jnp.angle(Em)),jnp.angle(Em),0])\n",
    "print(x_k)"
   ]
  },
  {
   "cell_type": "code",
   "execution_count": null,
   "id": "5b88f966",
   "metadata": {},
   "outputs": [],
   "source": []
  },
  {
   "cell_type": "code",
   "execution_count": 11,
   "id": "9848e4db",
   "metadata": {},
   "outputs": [
    {
     "name": "stdout",
     "output_type": "stream",
     "text": [
      "[-2.0358711e-06  0.0000000e+00  0.0000000e+00  0.0000000e+00\n",
      " -9.3132257e-10  0.0000000e+00  0.0000000e+00  0.0000000e+00]\n"
     ]
    }
   ],
   "source": [
    "print(p2.g_cons(x_k,x_k))"
   ]
  },
  {
   "cell_type": "code",
   "execution_count": 12,
   "id": "c882cae9",
   "metadata": {},
   "outputs": [
    {
     "data": {
      "text/plain": [
       "DeviceArray(1.0083259, dtype=float32, weak_type=True)"
      ]
     },
     "execution_count": 12,
     "metadata": {},
     "output_type": "execute_result"
    }
   ],
   "source": [
    "jnp.abs(p2.Em)"
   ]
  },
  {
   "cell_type": "code",
   "execution_count": 13,
   "id": "ca46e7f2",
   "metadata": {},
   "outputs": [],
   "source": [
    "X = []\n",
    "tol = 1e-6\n",
    "k = 0\n",
    "# z = measurements[0,:]\n",
    "# H = p2.measurement_jacobian(x_k)\n",
    "# G = p2.constraint_jacobian(x_k,x_k)\n",
    "# d = d_vec(x_k,x_k,z)\n",
    "#x_k = update_rule(x_k,H,G,W,P,d)\n",
    "x_k_h = x_k"
   ]
  },
  {
   "cell_type": "code",
   "execution_count": 14,
   "id": "3d075920",
   "metadata": {},
   "outputs": [
    {
     "name": "stdout",
     "output_type": "stream",
     "text": [
      "[-2.0358711e-06  0.0000000e+00  0.0000000e+00  0.0000000e+00\n",
      " -9.3132257e-10  0.0000000e+00  0.0000000e+00  0.0000000e+00]\n"
     ]
    }
   ],
   "source": [
    "g = p2.g_cons(x_k,x_k_h)\n",
    "print(g)"
   ]
  },
  {
   "cell_type": "code",
   "execution_count": 15,
   "id": "a9ea1c86",
   "metadata": {},
   "outputs": [
    {
     "data": {
      "text/plain": [
       "DeviceArray([ 1.        ,  0.1       ,  0.96944535,  0.2453074 ,\n",
       "              0.24783677,  0.        ,  1.        ,  0.        ,\n",
       "              0.99174285, -0.12824261, -0.12859675,  0.        ],            dtype=float32)"
      ]
     },
     "execution_count": 15,
     "metadata": {},
     "output_type": "execute_result"
    }
   ],
   "source": [
    "x_k"
   ]
  },
  {
   "cell_type": "code",
   "execution_count": 17,
   "id": "627c15fa",
   "metadata": {},
   "outputs": [],
   "source": [
    "def d_vec(x_k,x_k_h,z):\n",
    "    h_x = p2.h(x_k)-z\n",
    "    g_x_k = p2.g_cons(x_k,x_k_h)\n",
    "    d = jnp.concatenate([h_x,g_x_k])\n",
    "    return d\n",
    "\n",
    "def update_rule(x_k,H,G,W,P,d):\n",
    "    x_k_1 = x_k - jnp.linalg.inv(H.T@W@H + G.T@P@G)@(jnp.hstack([H.T@W,G.T@P]))@d\n",
    "    return x_k_1\n"
   ]
  },
  {
   "cell_type": "code",
   "execution_count": 18,
   "id": "ea0f9e88",
   "metadata": {},
   "outputs": [
    {
     "name": "stdout",
     "output_type": "stream",
     "text": [
      "==============================t=  [ 1.    0.1   1.    0.    0.75  0.   -0.75  0.   -0.75  0.    0.75  0.\n",
      "  0.    0.  ]\n"
     ]
    },
    {
     "name": "stderr",
     "output_type": "stream",
     "text": [
      "100%|███████████████████████████████████████████████████████████████████████████████████| 10/10 [00:02<00:00,  4.52it/s]\n"
     ]
    },
    {
     "name": "stdout",
     "output_type": "stream",
     "text": [
      "[ 0.9561764   0.0535265   0.9608501   0.20577997  0.24759288 -0.02926583\n",
      "  0.9572143   0.02014398  0.9809521  -0.09033933 -0.12835784  0.0286695 ]\n",
      "==============================t=  [ 1.    0.1   1.    0.    0.75  0.   -0.75  0.   -0.75  0.    0.75  0.\n",
      "  0.    0.  ]\n"
     ]
    },
    {
     "name": "stderr",
     "output_type": "stream",
     "text": [
      "100%|███████████████████████████████████████████████████████████████████████████████████| 10/10 [00:01<00:00,  5.08it/s]\n"
     ]
    },
    {
     "name": "stdout",
     "output_type": "stream",
     "text": [
      "[ 0.8105889   0.28511277  0.9641843   0.18586874  0.25547338  0.97492653\n",
      "  0.8132102   0.25507355  0.98064625 -0.04006803 -0.11952822  1.0308851 ]\n",
      "==============================t=  [ 0.993  0.03   0.987 -0.114  1.079 -0.041 -1.079  0.041 -1.079  0.041\n",
      "  0.141  0.068 -0.392 -1.092]\n"
     ]
    },
    {
     "name": "stderr",
     "output_type": "stream",
     "text": [
      "100%|███████████████████████████████████████████████████████████████████████████████████| 10/10 [00:01<00:00,  5.01it/s]\n"
     ]
    },
    {
     "name": "stdout",
     "output_type": "stream",
     "text": [
      "[ 0.67484754  0.5367552   0.9773709   0.19296598  0.28035247  2.010565\n",
      "  0.678897    0.509461    0.989739    0.03091765 -0.09383991  2.0517116 ]\n",
      "==============================t=  [ 0.991  0.013  0.983 -0.135  1.111 -0.06  -1.111  0.06  -1.111  0.06\n",
      "  0.177  0.068 -0.811 -2.146]\n"
     ]
    },
    {
     "name": "stderr",
     "output_type": "stream",
     "text": [
      "100%|███████████████████████████████████████████████████████████████████████████████████| 10/10 [00:01<00:00,  5.09it/s]\n"
     ]
    },
    {
     "name": "stdout",
     "output_type": "stream",
     "text": [
      "[ 0.54657376  0.8114325   0.9988009   0.22651465  0.3224939   3.0464063\n",
      "  0.5518462   0.78626275  1.0050911   0.12326267 -0.05112089  3.0745711 ]\n",
      "==============================t=  [ 0.988 -0.014  0.975 -0.169  1.16  -0.095 -1.16   0.095 -1.16   0.095\n",
      "  0.233  0.065 -1.278 -3.125]\n"
     ]
    },
    {
     "name": "stderr",
     "output_type": "stream",
     "text": [
      "100%|███████████████████████████████████████████████████████████████████████████████████| 10/10 [00:01<00:00,  5.08it/s]\n"
     ]
    },
    {
     "name": "stdout",
     "output_type": "stream",
     "text": [
      "[0.42249602 1.1089733  1.0253502  0.28613475 0.38190916 4.083422\n",
      " 0.42866215 1.0854152  1.0224787  0.23745033 0.00866394 4.099608  ]\n",
      "==============================t=  [ 0.982 -0.052  0.963 -0.215  1.219 -0.148 -1.219  0.148 -1.219  0.148\n",
      "  0.305  0.056 -1.813 -4.001]\n"
     ]
    },
    {
     "name": "stderr",
     "output_type": "stream",
     "text": [
      "100%|███████████████████████████████████████████████████████████████████████████████████| 10/10 [00:01<00:00,  5.12it/s]\n"
     ]
    },
    {
     "name": "stdout",
     "output_type": "stream",
     "text": [
      "[0.29812634 1.4291586  1.0523688  0.3715344  0.4586251  5.1224923\n",
      " 0.3047791  1.4067664  1.0365198  0.37363848 0.08554856 5.126547  ]\n",
      "==============================t=  [ 0.974 -0.101  0.944 -0.271  1.281 -0.222 -1.281  0.222 -1.281  0.222\n",
      "  0.384  0.036 -2.425 -4.757]\n"
     ]
    },
    {
     "name": "stderr",
     "output_type": "stream",
     "text": [
      "100%|███████████████████████████████████████████████████████████████████████████████████| 10/10 [00:01<00:00,  5.10it/s]\n"
     ]
    },
    {
     "name": "stdout",
     "output_type": "stream",
     "text": [
      "[0.16778329 1.7714118  1.0737487  0.48205423 0.55267817 6.1638746\n",
      " 0.17447312 1.7497699  1.0406781  0.5312759  0.17955798 6.1545815 ]\n",
      "==============================t=  [ 9.600e-01 -1.590e-01  9.180e-01 -3.370e-01  1.335e+00 -3.180e-01\n",
      " -1.335e+00  3.180e-01 -1.335e+00  3.180e-01  4.640e-01  2.000e-03\n",
      " -3.118e+00 -5.387e+00]\n"
     ]
    },
    {
     "name": "stderr",
     "output_type": "stream",
     "text": [
      "100%|███████████████████████████████████████████████████████████████████████████████████| 10/10 [00:01<00:00,  5.02it/s]\n"
     ]
    },
    {
     "name": "stdout",
     "output_type": "stream",
     "text": [
      "[0.02467804 2.1344106  1.0820899  0.6161239  0.66410273 7.207072\n",
      " 0.03094086 2.1131043  1.0274115  0.70864606 0.2906985  7.182281  ]\n",
      "==============================t=  [ 0.941 -0.226  0.883 -0.409  1.372 -0.436 -1.372  0.436 -1.372  0.436\n",
      "  0.534 -0.047 -3.888 -5.896]\n"
     ]
    },
    {
     "name": "stderr",
     "output_type": "stream",
     "text": [
      "100%|███████████████████████████████████████████████████████████████████████████████████| 10/10 [00:01<00:00,  5.14it/s]\n"
     ]
    },
    {
     "name": "stdout",
     "output_type": "stream",
     "text": [
      "[-0.13889329  2.5156476   1.06904     0.7706671   0.7929176   8.25071\n",
      " -0.13351086  2.4942417   0.9885176   0.90237314  0.41894668  8.2074995 ]\n",
      "==============================t=  [ 0.915 -0.302  0.838 -0.487  1.382 -0.572 -1.382  0.572 -1.382  0.572\n",
      "  0.586 -0.11  -4.723 -6.3  ]\n"
     ]
    },
    {
     "name": "stderr",
     "output_type": "stream",
     "text": [
      "100%|███████████████████████████████████████████████████████████████████████████████████| 10/10 [00:01<00:00,  5.20it/s]\n"
     ]
    },
    {
     "name": "stdout",
     "output_type": "stream",
     "text": [
      "[-0.3311929   2.9109488   1.0258863   0.9405153   0.93911034  9.292419\n",
      " -0.32710814  2.8889725   0.9157373   1.1069517   0.5642366   9.22729   ]\n",
      "==============================t=  [ 0.916 -0.334  0.844 -0.482  1.106 -0.538 -1.106  0.538 -1.106  0.538\n",
      "  1.106 -0.538 -5.609 -6.622]\n"
     ]
    },
    {
     "name": "stderr",
     "output_type": "stream",
     "text": [
      "100%|███████████████████████████████████████████████████████████████████████████████████| 10/10 [00:01<00:00,  5.22it/s]\n"
     ]
    },
    {
     "name": "stdout",
     "output_type": "stream",
     "text": [
      "[-0.5604415   3.3139675   0.94445944  1.1179277   1.1026199  10.328723\n",
      " -0.55800974  3.2909074   0.80164826  1.3143917   0.72644573 10.237803  ]\n",
      "==============================t=  [ 0.877 -0.424  0.79  -0.565  1.055 -0.652 -1.055  0.652 -1.055  0.652\n",
      "  1.055 -0.652 -6.175 -5.836]\n"
     ]
    },
    {
     "name": "stderr",
     "output_type": "stream",
     "text": [
      "100%|███████████████████████████████████████████████████████████████████████████████████| 10/10 [00:01<00:00,  5.19it/s]\n"
     ]
    },
    {
     "name": "stdout",
     "output_type": "stream",
     "text": [
      "[-0.833889    3.7157147   0.81836563  1.2923542   1.2833172  11.354954\n",
      " -0.833375    3.6910152   0.6408494   1.514103    0.9053794  11.234237  ]\n",
      "==============================t=  [ 0.832 -0.512  0.734 -0.64   0.959 -0.735 -0.959  0.735 -0.959  0.735\n",
      "  0.959 -0.735 -6.73  -5.067]\n"
     ]
    },
    {
     "name": "stderr",
     "output_type": "stream",
     "text": [
      "100%|███████████████████████████████████████████████████████████████████████████████████| 10/10 [00:01<00:00,  5.08it/s]\n"
     ]
    },
    {
     "name": "stdout",
     "output_type": "stream",
     "text": [
      "[-1.1564747   4.104264    0.64449     1.4506161   1.480986   12.365303\n",
      " -1.1580255   4.077341    0.43136477  1.6931691   1.1007557  12.210919  ]\n",
      "==============================t=  [ 0.78  -0.597  0.676 -0.707  0.828 -0.778 -0.828  0.778 -0.828  0.778\n",
      "  0.828 -0.778 -7.226 -4.377]\n"
     ]
    },
    {
     "name": "stderr",
     "output_type": "stream",
     "text": [
      "100%|███████████████████████████████████████████████████████████████████████████████████| 10/10 [00:01<00:00,  5.11it/s]"
     ]
    },
    {
     "name": "stdout",
     "output_type": "stream",
     "text": [
      "[-1.5290797   4.4648876   0.42459497  1.577683    1.6953067  13.353181\n",
      " -1.5327046   4.4351587   0.17609145  1.8371583   1.3121947  13.161761  ]\n"
     ]
    },
    {
     "name": "stderr",
     "output_type": "stream",
     "text": [
      "\n"
     ]
    }
   ],
   "source": [
    "\n",
    "for z,t in enumerate(measurements):\n",
    "    print(\"==============================t= \",t)\n",
    "    for i in tqdm(range(10)):\n",
    "        \n",
    "        #print(x_k)\n",
    "        H = p2.measurement_jacobian(x_k)\n",
    "        G = p2.constraint_jacobian(x_k,x_k_h)\n",
    "        #print(H,G)\n",
    "        d = d_vec(x_k,x_k_h,z)\n",
    "        x_k = update_rule(x_k,H,G,W,P,d)\n",
    "       \n",
    "        #print(d[14:])\n",
    "    print(x_k)\n",
    "    X.append(x_k)\n",
    "    x_k_h = x_k"
   ]
  },
  {
   "cell_type": "code",
   "execution_count": 20,
   "id": "c659e2d6",
   "metadata": {},
   "outputs": [
    {
     "data": {
      "text/plain": [
       "<matplotlib.legend.Legend at 0x7fd88451efa0>"
      ]
     },
     "execution_count": 20,
     "metadata": {},
     "output_type": "execute_result"
    },
    {
     "data": {
      "image/png": "[encoded data removed]",
      "text/plain": [
       "<Figure size 432x288 with 1 Axes>"
      ]
     },
     "metadata": {},
     "output_type": "display_data"
    }
   ],
   "source": [
    "import matplotlib.pyplot as plt\n",
    "X = jnp.asarray(X)\n",
    "names = ['$v_{1,r}$','$v_{1,i}$','$v_{2,r}$','$v_{2,i}$','$i_{1,r}$','$i_{1,i}$','$i_{2,r}$','$i_{2,i}$','$i_{gr}$','$i_{gi}$','$i_{mr}$','$i_{mi}$','$\\omega_g$','$\\omega_m$']\n",
    "for i in range(12):\n",
    "    name = names[i]\n",
    "    plt.plot(X[:,i],label=name)\n",
    "plt.legend()"
   ]
  },
  {
   "cell_type": "code",
   "execution_count": 29,
   "id": "d7fed87c",
   "metadata": {},
   "outputs": [
    {
     "data": {
      "text/plain": [
       "Text(0.5, 1.0, 'Voltage Mags and Angles. ')"
      ]
     },
     "execution_count": 29,
     "metadata": {},
     "output_type": "execute_result"
    },
    {
     "data": {
      "image/png": "[encoded data removed]",
      "text/plain": [
       "<Figure size 756x467.163 with 6 Axes>"
      ]
     },
     "metadata": {},
     "output_type": "display_data"
    }
   ],
   "source": [
    "figscale = 3\n",
    "fig,axes = plt.subplots(nrows=2,ncols=3,figsize=(figscale*3.5,figscale*3.5/1.61828),constrained_layout=True,sharex=True)\n",
    "axes[1,0].set_xlabel(\"time t (t/60)s\")\n",
    "axes[1,1].set_xlabel(\"time t (t/60)s\")\n",
    "\n",
    "#Generator and motor speed\n",
    "axes[0,0].plot([p2.omegag(x) for x in X],label=\"$\\omega_g$\")\n",
    "axes[0,0].plot([p2.omegam(x) for x in X],label=\"$\\omega_m$\")\n",
    "axes[0,0].legend()\n",
    "axes[0,0].set_title(\"Angular Velocities\")\n",
    "#Deltas\n",
    "axes[0,1].plot([p2.deltag(x) for x in X],label=\"$\\delta_g$\")\n",
    "axes[0,1].plot([p2.deltam(x) for x in X],label=\"$\\delta_m$\")\n",
    "axes[0,1].legend()\n",
    "axes[0,1].set_title(\"Angles\")\n",
    "#Voltages\n",
    "axes[0,2].plot([p2.v1r(x) for x in X],label=\"$V_{1,r}$\")\n",
    "axes[0,2].plot([p2.v2r(x) for x in X],label=\"$V_{2,r}$\")\n",
    "axes[0,2].plot([p2.v1i(x) for x in X],label=\"$V_{1,i}$\")\n",
    "axes[0,2].plot([p2.v2i(x) for x in X],label=\"$V_{2,i}$\")\n",
    "axes[0,2].legend()\n",
    "axes[0,2].set_title(\"Real/Imag Part of Voltages\")\n",
    "\n",
    "#Currents\n",
    "axes[1,0].plot([jnp.abs(p2.v1r(x) + p2.v1i(x)*1j) for x in X],label=r\"$|\\tilde{V}_1|$\")\n",
    "axes[1,0].plot([jnp.angle(p2.v1r(x) + p2.v1i(x)*1j) for x in X],label=r\"$\\angle(\\tilde{V}_1)$\")\n",
    "axes[1,0].plot([jnp.abs(p2.v2r(x) + p2.v2i(x)*1j) for x in X],label=r\"$|\\tilde{V}_{2}|$\")\n",
    "axes[1,0].plot([jnp.angle(p2.v2r(x) + p2.v2i(x)*1j)for x in X],label=r\"$\\angle(\\tilde{V}_{2})$\")\n",
    "axes[1,0].legend()\n",
    "axes[1,0].set_title(\"Voltage Mags and Angles. \")\n"
   ]
  },
  {
   "cell_type": "code",
   "execution_count": 80,
   "id": "b0e63859",
   "metadata": {},
   "outputs": [
    {
     "name": "stdout",
     "output_type": "stream",
     "text": [
      "[ 0.99652762  0.09944135  0.96483151  0.26284665  0.26603139  0.98236367\n",
      "  0.99677504 -0.00453833  0.98927001 -0.14607636 -0.14665903 -0.91990502]\n"
     ]
    }
   ],
   "source": [
    "print(X[0])"
   ]
  },
  {
   "cell_type": "code",
   "execution_count": null,
   "id": "6df260ff",
   "metadata": {},
   "outputs": [],
   "source": []
  },
  {
   "cell_type": "code",
   "execution_count": null,
   "id": "ba2fa888",
   "metadata": {},
   "outputs": [],
   "source": []
  }
 ],
 "metadata": {
  "kernelspec": {
   "display_name": "Python 3 (ipykernel)",
   "language": "python",
   "name": "python3"
  },
  "language_info": {
   "codemirror_mode": {
    "name": "ipython",
    "version": 3
   },
   "file_extension": ".py",
   "mimetype": "text/x-python",
   "name": "python",
   "nbconvert_exporter": "python",
   "pygments_lexer": "ipython3",
   "version": "3.8.12"
  }
 },
 "nbformat": 4,
 "nbformat_minor": 5
}
