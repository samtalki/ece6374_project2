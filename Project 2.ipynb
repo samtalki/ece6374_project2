{
 "cells": [
  {
   "cell_type": "code",
   "execution_count": 9,
   "id": "daf55155",
   "metadata": {},
   "outputs": [],
   "source": [
    "import jax.numpy as jnp\n",
    "import project_2 as p2\n",
    "import seaborn as sns\n",
    "from tqdm import tqdm\n",
    "import imp\n",
    "imp.reload(p2)\n",
    "sns.set(context='talk',style='darkgrid')"
   ]
  },
  {
   "cell_type": "markdown",
   "id": "1478a343",
   "metadata": {},
   "source": [
    "# Problem setup:\n",
    "\n",
    "## States:\n",
    "\n",
    "$$\n",
    "x(t) = \\left[ \n",
    "        \\Re\\{\\bar{V}_1(t)\\},\n",
    "        \\Im\\{\\bar{V}_1(t)\\},\n",
    "        c_g(t),\n",
    "        s_g(t),\n",
    "        \\delta_g(t),\n",
    "        \\omega_g(t),\n",
    "        \\Re\\{\\bar{V}_2(t)\\},\n",
    "        \\Im\\{\\bar{V}_2(t)\\},\n",
    "        c_m(t),\n",
    "        s_m(t),\n",
    "        \\delta_m(t),\n",
    "        \\omega_m(t)\n",
    "    \\right]^T\n",
    "$$\n",
    "\n",
    "## System Parameters and Initial Conditions:"
   ]
  },
  {
   "cell_type": "code",
   "execution_count": 10,
   "id": "7ee94c13",
   "metadata": {},
   "outputs": [],
   "source": [
    "#Initial conditions\n",
    "Ig = 0.75 * jnp.exp(jnp.deg2rad(180)*1j)\n",
    "Eg = 1.0315 * jnp.exp(jnp.deg2rad(14.2)*1j)\n",
    "Im = 0.75 #* np.exp(0*1j)\n",
    "Em = 1/(p2.bm*-1j)*(-1*Im) +1\n",
    "Pgm = 0.75\n",
    "Pmm = 0.75\n",
    "V1 = 1/(p2.b*-1j)*Im + 1\n",
    "V2 = 1.0*jnp.exp(0*1j)\n",
    "\n",
    "#Parameters that were not stated anywhere in the project.\n",
    "omega0 = 2*jnp.pi*60\n"
   ]
  },
  {
   "cell_type": "code",
   "execution_count": null,
   "id": "ba941c43-9f7a-4fd4-8cfa-58187953bf3e",
   "metadata": {},
   "outputs": [],
   "source": []
  },
  {
   "cell_type": "code",
   "execution_count": null,
   "id": "445c308e",
   "metadata": {},
   "outputs": [],
   "source": []
  },
  {
   "cell_type": "markdown",
   "id": "03fc00d0",
   "metadata": {},
   "source": [
    "## Measurements "
   ]
  },
  {
   "cell_type": "code",
   "execution_count": 11,
   "id": "9ae928a9",
   "metadata": {},
   "outputs": [],
   "source": [
    "measurements  = jnp.array([[1.000, 0.100, 1.000, 0.000, 0.750, 0.000, -0.750, 0.000,-0.750, 0.000, 0.750, 0.000, 0.000, 0.000],\n",
    "                          [1.000, 0.100, 1.000, 0.000, 0.750, 0.000, -0.750, 0.000, -0.750, 0.000, 0.750, 0.000, 0.000, 0.000,],\n",
    "                          [0.993, 0.030, 0.987, -0.114, 1.079, -0.041, -1.079, 0.041, -1.079, 0.041, 0.141, 0.068, -0.392, -1.092],\n",
    "                          [0.991, 0.013, 0.983, -0.135, 1.111, -0.060, -1.111, 0.060, -1.111, 0.060, 0.177, 0.068, -0.811, -2.146],\n",
    "                          [0.988, -0.014, 0.975, -0.169, 1.160, -0.095, -1.160, 0.095,-1.160, 0.095, 0.233, 0.065, -1.278, -3.125],\n",
    "                          [0.982, -0.052, 0.963, -0.215, 1.219, -0.148, -1.219, 0.148,-1.219, 0.148, 0.305, 0.056, -1.813, -4.001],\n",
    "                          [0.974, -0.101, 0.944, -0.271, 1.281, -0.222, -1.281, 0.222, -1.281, 0.222, 0.384, 0.036, -2.425, -4.757],\n",
    "                          [0.960, -0.159, 0.918, -0.337, 1.335, -0.318, -1.335, 0.318, -1.335, 0.318, 0.464, 0.002, -3.118, -5.387],\n",
    "                          [0.941, -0.226, 0.883, -0.409, 1.372, -0.436, -1.372, 0.436, -1.372, 0.436, 0.534, -0.047, -3.888, -5.896],\n",
    "                          [0.915, -0.302, 0.838, -0.487, 1.382, -0.572, -1.382, 0.572, -1.382, 0.572, 0.586, -0.110, -4.723, -6.300],\n",
    "                          [0.916, -0.334, 0.844, -0.482, 1.106, -0.538, -1.106, 0.538, -1.106, 0.538, 1.106, -0.538, -5.609, -6.622],\n",
    "                          [0.877, -0.424, 0.790, -0.565, 1.055, -0.652, -1.055, 0.652, -1.055, 0.652, 1.055, -0.652, -6.175, -5.836],\n",
    "                          [0.832, -0.512, 0.734, -0.640, 0.959, -0.735, -0.959, 0.735, -0.959, 0.735, 0.959, -0.735, -6.730, -5.067],\n",
    "                          [0.780, -0.597, 0.676, -0.707, 0.828, -0.778, -0.828, 0.778, -0.828, 0.778, 0.828, -0.778, -7.226, -4.377]\n",
    "                         ])"
   ]
  },
  {
   "cell_type": "code",
   "execution_count": 12,
   "id": "baa483a1",
   "metadata": {},
   "outputs": [],
   "source": [
    "P = 10e6*jnp.eye(8)\n",
    "W = (1/(0.01**2))*jnp.eye(measurements.shape[1])"
   ]
  },
  {
   "cell_type": "markdown",
   "id": "c3dbd618",
   "metadata": {},
   "source": [
    "## Dynamic State Estimation"
   ]
  },
  {
   "cell_type": "code",
   "execution_count": 13,
   "id": "b7bbcd2d-5ae1-4cea-9f2a-50e1fb70f8db",
   "metadata": {},
   "outputs": [
    {
     "name": "stdout",
     "output_type": "stream",
     "text": [
      "[ 1.          0.1         0.96944535  0.2453074   0.24783677  0.\n",
      "  1.          0.          0.99174285 -0.12824261 -0.12859675  0.        ]\n"
     ]
    }
   ],
   "source": [
    "x_k = jnp.array([jnp.real(V1),jnp.imag(V1),jnp.cos(jnp.angle(Eg)),jnp.sin(jnp.angle(Eg)),jnp.angle(Eg),0,jnp.real(V2),jnp.imag(V2),jnp.cos(jnp.angle(Em)),jnp.sin(jnp.angle(Em)),jnp.angle(Em),0])\n",
    "print(x_k)"
   ]
  },
  {
   "cell_type": "code",
   "execution_count": null,
   "id": "5b88f966",
   "metadata": {},
   "outputs": [],
   "source": []
  },
  {
   "cell_type": "code",
   "execution_count": 14,
   "id": "9848e4db",
   "metadata": {},
   "outputs": [
    {
     "name": "stdout",
     "output_type": "stream",
     "text": [
      "[-2.0358711e-06  0.0000000e+00  0.0000000e+00  0.0000000e+00\n",
      " -9.3132257e-10  0.0000000e+00  0.0000000e+00  0.0000000e+00]\n"
     ]
    }
   ],
   "source": [
    "print(p2.g_cons(x_k,x_t_h))"
   ]
  },
  {
   "cell_type": "code",
   "execution_count": 15,
   "id": "c882cae9",
   "metadata": {},
   "outputs": [
    {
     "data": {
      "text/plain": [
       "DeviceArray(1.0083259, dtype=float32, weak_type=True)"
      ]
     },
     "execution_count": 15,
     "metadata": {},
     "output_type": "execute_result"
    }
   ],
   "source": [
    "jnp.abs(p2.Em)"
   ]
  },
  {
   "cell_type": "code",
   "execution_count": 16,
   "id": "ca46e7f2",
   "metadata": {},
   "outputs": [],
   "source": [
    "X = []\n",
    "tol = 1e-6\n",
    "k = 0\n",
    "x_t_h = x_k"
   ]
  },
  {
   "cell_type": "code",
   "execution_count": 17,
   "id": "3d075920",
   "metadata": {},
   "outputs": [
    {
     "name": "stdout",
     "output_type": "stream",
     "text": [
      "[-2.0358711e-06  0.0000000e+00  0.0000000e+00  0.0000000e+00\n",
      " -9.3132257e-10  0.0000000e+00  0.0000000e+00  0.0000000e+00]\n"
     ]
    }
   ],
   "source": [
    "g = p2.g_cons(x_k,x_t_h)\n",
    "print(g)"
   ]
  },
  {
   "cell_type": "code",
   "execution_count": 18,
   "id": "a9ea1c86",
   "metadata": {},
   "outputs": [
    {
     "data": {
      "text/plain": [
       "DeviceArray([ 1.        ,  0.1       ,  0.96944535,  0.2453074 ,\n",
       "              0.24783677,  0.        ,  1.        ,  0.        ,\n",
       "              0.99174285, -0.12824261, -0.12859675,  0.        ],            dtype=float32)"
      ]
     },
     "execution_count": 18,
     "metadata": {},
     "output_type": "execute_result"
    }
   ],
   "source": [
    "x_k"
   ]
  },
  {
   "cell_type": "code",
   "execution_count": 20,
   "id": "627c15fa",
   "metadata": {},
   "outputs": [],
   "source": [
    "def d_vec(x_k,x_t_h,z):\n",
    "    h_x = p2.h(x_k)-z\n",
    "    g_x_k = p2.g_cons(x_k,x_t_h)\n",
    "    d = jnp.concatenate([h_x,g_x_k])\n",
    "    return d\n",
    "\n",
    "def update_rule(x_k,H,G,W,P,d):\n",
    "    x_k_1 = x_k - jnp.linalg.inv(H.T@W@H + G.T@P@G)@(jnp.hstack([H.T@W,G.T@P]))@d\n",
    "    return x_k_1\n"
   ]
  },
  {
   "cell_type": "code",
   "execution_count": 21,
   "id": "ea0f9e88",
   "metadata": {},
   "outputs": [
    {
     "name": "stdout",
     "output_type": "stream",
     "text": [
      "==============================t=  [ 1.    0.1   1.    0.    0.75  0.   -0.75  0.   -0.75  0.    0.75  0.\n",
      "  0.    0.  ]\n"
     ]
    },
    {
     "name": "stderr",
     "output_type": "stream",
     "text": [
      "100%|███████████████████████████████████████████████████████████████████████████████████| 10/10 [00:02<00:00,  4.02it/s]\n"
     ]
    },
    {
     "name": "stdout",
     "output_type": "stream",
     "text": [
      "[ 0.9646964   0.05404159  0.96868736  0.2401096   0.24745087 -0.04630755\n",
      "  0.9659694   0.01294854  0.9906636  -0.12329923 -0.1282995   0.03566969]\n",
      "==============================t=  [ 1.    0.1   1.    0.    0.75  0.   -0.75  0.   -0.75  0.    0.75  0.\n",
      "  0.    0.  ]\n"
     ]
    },
    {
     "name": "stderr",
     "output_type": "stream",
     "text": [
      "100%|███████████████████████████████████████████████████████████████████████████████████| 10/10 [00:01<00:00,  5.07it/s]\n"
     ]
    },
    {
     "name": "stdout",
     "output_type": "stream",
     "text": [
      "[ 0.81678665  0.2811698   0.96754473  0.24256282  0.25458863  0.90283746\n",
      "  0.82044375  0.23619276  0.99149066 -0.10847383 -0.11926823  1.0480828 ]\n",
      "==============================t=  [ 0.993  0.03   0.987 -0.114  1.079 -0.041 -1.079  0.041 -1.079  0.041\n",
      "  0.141  0.068 -0.392 -1.092]\n"
     ]
    },
    {
     "name": "stderr",
     "output_type": "stream",
     "text": [
      "100%|███████████████████████████████████████████████████████████████████████████████████| 10/10 [00:01<00:00,  5.16it/s]\n"
     ]
    },
    {
     "name": "stdout",
     "output_type": "stream",
     "text": [
      "[ 0.6714706   0.49843517  0.9629966   0.26277     0.27981427  2.1242385\n",
      "  0.67691356  0.45090201  0.99437267 -0.07476535 -0.09209874  2.2122557 ]\n",
      "==============================t=  [ 0.991  0.013  0.983 -0.135  1.111 -0.06  -1.111  0.06  -1.111  0.06\n",
      "  0.177  0.068 -0.811 -2.146]\n"
     ]
    },
    {
     "name": "stderr",
     "output_type": "stream",
     "text": [
      "100%|███████████████████████████████████████████████████████████████████████████████████| 10/10 [00:01<00:00,  5.06it/s]\n"
     ]
    },
    {
     "name": "stdout",
     "output_type": "stream",
     "text": [
      "[ 0.5259481   0.73241633  0.9528534   0.30259287  0.32565045  3.3761046\n",
      "  0.5337131   0.68250775  0.99723357 -0.02102015 -0.04543794  3.3870401 ]\n",
      "==============================t=  [ 0.988 -0.014  0.975 -0.169  1.16  -0.095 -1.16   0.095 -1.16   0.095\n",
      "  0.233  0.065 -1.278 -3.125]\n"
     ]
    },
    {
     "name": "stderr",
     "output_type": "stream",
     "text": [
      "100%|███████████████████████████████████████████████████████████████████████████████████| 10/10 [00:01<00:00,  5.07it/s]\n"
     ]
    },
    {
     "name": "stdout",
     "output_type": "stream",
     "text": [
      "[0.37866777 0.98403597 0.93421566 0.3612903  0.39242956 4.637389\n",
      " 0.3892818  0.93156964 0.99660474 0.05267954 0.0209326  4.577424  ]\n",
      "==============================t=  [ 0.982 -0.052  0.963 -0.215  1.219 -0.148 -1.219  0.148 -1.219  0.148\n",
      "  0.305  0.056 -1.813 -4.001]\n"
     ]
    },
    {
     "name": "stderr",
     "output_type": "stream",
     "text": [
      "100%|███████████████████████████████████████████████████████████████████████████████████| 10/10 [00:01<00:00,  5.07it/s]\n"
     ]
    },
    {
     "name": "stdout",
     "output_type": "stream",
     "text": [
      "[0.22736892 1.2531108  0.9030881  0.43719852 0.48028874 5.9057117\n",
      " 0.24132423 1.1978703  0.98774844 0.14584489 0.10730483 5.787243  ]\n",
      "==============================t=  [ 0.974 -0.101  0.944 -0.271  1.281 -0.222 -1.281  0.222 -1.281  0.222\n",
      "  0.384  0.036 -2.425 -4.757]\n"
     ]
    },
    {
     "name": "stderr",
     "output_type": "stream",
     "text": [
      "100%|███████████████████████████████████████████████████████████████████████████████████| 10/10 [00:01<00:00,  5.05it/s]\n"
     ]
    },
    {
     "name": "stdout",
     "output_type": "stream",
     "text": [
      "[0.06861918 1.5397125  0.8545743  0.52749234 0.5893086  7.1766706\n",
      " 0.08642276 1.4815387  0.9647137  0.2570838  0.21399994 7.0161686 ]\n",
      "==============================t=  [ 9.600e-01 -1.590e-01  9.180e-01 -3.370e-01  1.335e+00 -3.180e-01\n",
      " -1.335e+00  3.180e-01 -1.335e+00  3.180e-01  4.640e-01  2.000e-03\n",
      " -3.118e+00 -5.387e+00]\n"
     ]
    },
    {
     "name": "stderr",
     "output_type": "stream",
     "text": [
      "100%|███████████████████████████████████████████████████████████████████████████████████| 10/10 [00:01<00:00,  5.06it/s]\n"
     ]
    },
    {
     "name": "stdout",
     "output_type": "stream",
     "text": [
      "[-0.10258295  1.8440355   0.7833296   0.62770694  0.7194467   8.439898\n",
      " -0.08036838  1.7829107   0.92057997  0.38347366  0.3412896   8.258589  ]\n",
      "==============================t=  [ 0.941 -0.226  0.883 -0.409  1.372 -0.436 -1.372  0.436 -1.372  0.436\n",
      "  0.534 -0.047 -3.888 -5.896]\n"
     ]
    },
    {
     "name": "stderr",
     "output_type": "stream",
     "text": [
      "100%|███████████████████████████████████████████████████████████████████████████████████| 10/10 [00:01<00:00,  5.03it/s]\n"
     ]
    },
    {
     "name": "stdout",
     "output_type": "stream",
     "text": [
      "[-0.29327095  2.165707    0.684329    0.731286    0.87042165  9.6770935\n",
      " -0.2660305   2.1018784   0.8480254   0.5198709   0.4892919   9.501684  ]\n",
      "==============================t=  [ 0.915 -0.302  0.838 -0.487  1.382 -0.572 -1.382  0.572 -1.382  0.572\n",
      "  0.586 -0.11  -4.723 -6.3  ]\n"
     ]
    },
    {
     "name": "stderr",
     "output_type": "stream",
     "text": [
      "100%|███████████████████████████████████████████████████████████████████████████████████| 10/10 [00:01<00:00,  5.09it/s]\n"
     ]
    },
    {
     "name": "stdout",
     "output_type": "stream",
     "text": [
      "[-0.51274806  2.5023677   0.5539993   0.8293615   1.0415704  10.860759\n",
      " -0.47990948  2.4364974   0.7403629   0.658295    0.65783095 10.723002  ]\n",
      "==============================t=  [ 0.916 -0.334  0.844 -0.482  1.106 -0.538 -1.106  0.538 -1.106  0.538\n",
      "  1.106 -0.538 -5.609 -6.622]\n"
     ]
    },
    {
     "name": "stderr",
     "output_type": "stream",
     "text": [
      "100%|███████████████████████████████████████████████████████████████████████████████████| 10/10 [00:01<00:00,  5.13it/s]\n"
     ]
    },
    {
     "name": "stdout",
     "output_type": "stream",
     "text": [
      "[-0.77196157  2.8474362   0.39165485  0.91103214  1.2316964  11.954354\n",
      " -0.73322266  2.7807138   0.5931386   0.7876631   0.8462581  11.888253  ]\n",
      "==============================t=  [ 0.877 -0.424  0.79  -0.565  1.055 -0.652 -1.055  0.652 -1.055  0.652\n",
      "  1.055 -0.652 -6.175 -5.836]\n"
     ]
    },
    {
     "name": "stderr",
     "output_type": "stream",
     "text": [
      "100%|███████████████████████████████████████████████████████████████████████████████████| 10/10 [00:01<00:00,  5.04it/s]\n"
     ]
    },
    {
     "name": "stdout",
     "output_type": "stream",
     "text": [
      "[-1.0811272   3.1875865   0.20096107  0.96441233  1.4389446  12.915425\n",
      " -1.0368066   3.1216729   0.40618962  0.8943011   1.0532533  12.951163  ]\n",
      "==============================t=  [ 0.832 -0.512  0.734 -0.64   0.959 -0.735 -0.959  0.735 -0.959  0.735\n",
      "  0.959 -0.735 -6.73  -5.067]\n"
     ]
    },
    {
     "name": "stderr",
     "output_type": "stream",
     "text": [
      "100%|███████████████████████████████████████████████████████████████████████████████████| 10/10 [00:01<00:00,  5.15it/s]\n"
     ]
    },
    {
     "name": "stdout",
     "output_type": "stream",
     "text": [
      "[-1.4450641e+00  3.5014892e+00 -9.1170846e-03  9.7855872e-01\n",
      "  1.6607674e+00  1.3703317e+01 -1.3964446e+00  3.4381614e+00\n",
      "  1.8565263e-01  9.6367639e-01  1.2766678e+00  1.3858581e+01]\n",
      "==============================t=  [ 0.78  -0.597  0.676 -0.707  0.828 -0.778 -0.828  0.778 -0.828  0.778\n",
      "  0.828 -0.778 -7.226 -4.377]\n"
     ]
    },
    {
     "name": "stderr",
     "output_type": "stream",
     "text": [
      "100%|███████████████████████████████████████████████████████████████████████████████████| 10/10 [00:01<00:00,  5.15it/s]"
     ]
    },
    {
     "name": "stdout",
     "output_type": "stream",
     "text": [
      "[-1.8571725   3.7621977  -0.22457145  0.94595915  1.8940582  14.29158\n",
      " -1.8065852   3.7026997  -0.05508753  0.9834302   1.5135198  14.563657  ]\n"
     ]
    },
    {
     "name": "stderr",
     "output_type": "stream",
     "text": [
      "\n"
     ]
    }
   ],
   "source": [
    "\n",
    "for z,t in enumerate(measurements):\n",
    "    print(\"==============================t= \",t)\n",
    "    #while np.linalg.norm(d[0:len(x)])\n",
    "    for i in tqdm(range(10)):\n",
    "        \n",
    "        #print(x_k)\n",
    "        H = p2.measurement_jacobian(x_k)\n",
    "        G = p2.constraint_jacobian(x_k,x_t_h)\n",
    "        #print(H,G)\n",
    "        d = d_vec(x_k,x_t_h,z)\n",
    "        x_k = update_rule(x_k,H,G,W,P,d)\n",
    "       \n",
    "        #print(d[14:])\n",
    "    print(x_k)\n",
    "    X.append(x_k)\n",
    "    x_t_h = x_k"
   ]
  },
  {
   "cell_type": "code",
   "execution_count": 22,
   "id": "cfb359d0-8594-463c-98ce-0fea5e3f92ec",
   "metadata": {},
   "outputs": [
    {
     "data": {
      "text/plain": [
       "DeviceArray([-1.4857172e+01, -9.2378025e+00, -1.4806585e+01,\n",
       "             -9.2973003e+00, -1.2553764e+01, -1.2620595e+01,\n",
       "             -1.3446236e+01, -1.3379405e+01,  6.5356064e-01,\n",
       "             -5.0349174e+00,  2.7242737e+00, -2.8439732e+00,\n",
       "              1.2915802e+00,  1.5636559e+00, -1.0230102e-01,\n",
       "             -2.9802322e-08,  9.0051591e-03, -5.1648407e-03,\n",
       "             -1.5500855e-01, -5.2154064e-08, -1.0132797e-02,\n",
       "              4.5272643e-03], dtype=float32)"
      ]
     },
     "execution_count": 22,
     "metadata": {},
     "output_type": "execute_result"
    }
   ],
   "source": [
    "d"
   ]
  },
  {
   "cell_type": "code",
   "execution_count": 23,
   "id": "c659e2d6",
   "metadata": {},
   "outputs": [
    {
     "data": {
      "text/plain": [
       "<matplotlib.legend.Legend at 0x7f22485c9f10>"
      ]
     },
     "execution_count": 23,
     "metadata": {},
     "output_type": "execute_result"
    },
    {
     "data": {
      "image/png": "[encoded data removed]",
      "text/plain": [
       "<Figure size 432x288 with 1 Axes>"
      ]
     },
     "metadata": {},
     "output_type": "display_data"
    }
   ],
   "source": [
    "import matplotlib.pyplot as plt\n",
    "X = jnp.asarray(X)\n",
    "names = ['$v_{1,r}$','$v_{1,i}$','$v_{2,r}$','$v_{2,i}$','$i_{1,r}$','$i_{1,i}$','$i_{2,r}$','$i_{2,i}$','$i_{gr}$','$i_{gi}$','$i_{mr}$','$i_{mi}$','$\\omega_g$','$\\omega_m$']\n",
    "for i in range(12):\n",
    "    name = names[i]\n",
    "    plt.plot(X[:,i],label=name)\n",
    "plt.legend()"
   ]
  },
  {
   "cell_type": "code",
   "execution_count": 24,
   "id": "d7fed87c",
   "metadata": {},
   "outputs": [
    {
     "data": {
      "text/plain": [
       "Text(0.5, 1.0, 'Voltage Mags and Angles. ')"
      ]
     },
     "execution_count": 24,
     "metadata": {},
     "output_type": "execute_result"
    },
    {
     "data": {
      "image/png": "[encoded data removed]",
      "text/plain": [
       "<Figure size 756x467.163 with 6 Axes>"
      ]
     },
     "metadata": {},
     "output_type": "display_data"
    }
   ],
   "source": [
    "figscale = 3\n",
    "fig,axes = plt.subplots(nrows=2,ncols=3,figsize=(figscale*3.5,figscale*3.5/1.61828),constrained_layout=True,sharex=True)\n",
    "axes[1,0].set_xlabel(\"time t (t/60)s\")\n",
    "axes[1,1].set_xlabel(\"time t (t/60)s\")\n",
    "\n",
    "#Generator and motor speed\n",
    "axes[0,0].plot([p2.omegag(x) for x in X],label=\"$\\omega_g$\")\n",
    "axes[0,0].plot([p2.omegam(x) for x in X],label=\"$\\omega_m$\")\n",
    "axes[0,0].legend()\n",
    "axes[0,0].set_title(\"Angular Velocities\")\n",
    "#Deltas\n",
    "axes[0,1].plot([p2.deltag(x) for x in X],label=\"$\\delta_g$\")\n",
    "axes[0,1].plot([p2.deltam(x) for x in X],label=\"$\\delta_m$\")\n",
    "axes[0,1].legend()\n",
    "axes[0,1].set_title(\"Angles\")\n",
    "#Voltages\n",
    "axes[0,2].plot([p2.v1r(x) for x in X],label=\"$V_{1,r}$\")\n",
    "axes[0,2].plot([p2.v2r(x) for x in X],label=\"$V_{2,r}$\")\n",
    "axes[0,2].plot([p2.v1i(x) for x in X],label=\"$V_{1,i}$\")\n",
    "axes[0,2].plot([p2.v2i(x) for x in X],label=\"$V_{2,i}$\")\n",
    "axes[0,2].legend()\n",
    "axes[0,2].set_title(\"Real/Imag Part of Voltages\")\n",
    "\n",
    "#Currents\n",
    "axes[1,0].plot([jnp.abs(p2.v1r(x) + p2.v1i(x)*1j) for x in X],label=r\"$|\\tilde{V}_1|$\")\n",
    "axes[1,0].plot([jnp.angle(p2.v1r(x) + p2.v1i(x)*1j) for x in X],label=r\"$\\angle(\\tilde{V}_1)$\")\n",
    "axes[1,0].plot([jnp.abs(p2.v2r(x) + p2.v2i(x)*1j) for x in X],label=r\"$|\\tilde{V}_{2}|$\")\n",
    "axes[1,0].plot([jnp.angle(p2.v2r(x) + p2.v2i(x)*1j)for x in X],label=r\"$\\angle(\\tilde{V}_{2})$\")\n",
    "axes[1,0].legend()\n",
    "axes[1,0].set_title(\"Voltage Mags and Angles. \")\n"
   ]
  },
  {
   "cell_type": "code",
   "execution_count": 80,
   "id": "b0e63859",
   "metadata": {},
   "outputs": [
    {
     "name": "stdout",
     "output_type": "stream",
     "text": [
      "[ 0.99652762  0.09944135  0.96483151  0.26284665  0.26603139  0.98236367\n",
      "  0.99677504 -0.00453833  0.98927001 -0.14607636 -0.14665903 -0.91990502]\n"
     ]
    }
   ],
   "source": [
    "print(X[0])"
   ]
  },
  {
   "cell_type": "code",
   "execution_count": null,
   "id": "6df260ff",
   "metadata": {},
   "outputs": [],
   "source": []
  },
  {
   "cell_type": "code",
   "execution_count": null,
   "id": "ba2fa888",
   "metadata": {},
   "outputs": [],
   "source": []
  }
 ],
 "metadata": {
  "kernelspec": {
   "display_name": "Python 3 (ipykernel)",
   "language": "python",
   "name": "python3"
  },
  "language_info": {
   "codemirror_mode": {
    "name": "ipython",
    "version": 3
   },
   "file_extension": ".py",
   "mimetype": "text/x-python",
   "name": "python",
   "nbconvert_exporter": "python",
   "pygments_lexer": "ipython3",
   "version": "3.8.12"
  }
 },
 "nbformat": 4,
 "nbformat_minor": 5
}
